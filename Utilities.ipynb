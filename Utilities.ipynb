{
 "cells": [
  {
   "cell_type": "code",
   "execution_count": null,
   "metadata": {
    "collapsed": true
   },
   "outputs": [],
   "source": [
    "import cv2\n",
    "import os\n",
    "import matplotlib.pyplot as plt\n",
    "import numpy as np\n",
    "\n",
    "#for plotting image\n",
    "def mplot(img,img2=None):\n",
    "    \n",
    "    cv2.namedWindow('img',cv2.WINDOW_NORMAL)\n",
    "    cv2.imshow('img',img)\n",
    "    if img2 is not None:\n",
    "        cv2.namedWindow('img2',cv2.WINDOW_NORMAL)\n",
    "        cv2.imshow('img2',img2)\n",
    "    cv2.waitKey(0)\n",
    "    cv2.destroyAllWindows()\n",
    "    \n",
    "#returns a list of output classes along with labels, character images and their class\n",
    "def getClassImagesWithLabels():\n",
    "    path='/home/jabir/Project/MHCR/DATASET'\n",
    "    file='/MD0.jpg'\n",
    "    ls=[]\n",
    "    for dir in os.listdir(path):\n",
    "        print(dir.split(\"R\")[1])\n",
    "        im=cv2.imread(os.path.join(path,dir+file),0)\n",
    "        ls.append([int(dir.split(\"R\")[1]),im])\n",
    "    print(len(ls))\n",
    "    ls.sort()\n",
    "    cls_label=[]\n",
    "    for class_img in ls:\n",
    "        m=class_img[1]\n",
    "        cv2.putText(m,str(class_img[0]),(10,10),0,0.3,(0,0,0))\n",
    "        cls_label.append(m)\n",
    "        #mplot(m)\n",
    "    return cls_label\n",
    "#returns a numpy array of unicode of all output classes\n",
    "def getMalForClasses():\n",
    "    mal=np.array([3333, 3334, 3335, 3337, 3339, 3342, 3343, 3346, 3349, 3350, 3351,\n",
    "       3352, 3353, 3354, 3355, 3356, 3357, 3358, 3359, 3360, 3361, 3362,\n",
    "       3363, 3364, 3365, 3366, 3367, 3368, 3370, 3371, 3372, 3373, 3374,\n",
    "       3375, 3376, 3378, 3381, 3382, 3383, 3384, 3385, 3380, 3379, 3377])\n",
    "    return mal\n",
    "    \n"
   ]
  }
 ],
 "metadata": {
  "kernelspec": {
   "display_name": "Python 3",
   "language": "python",
   "name": "python3"
  },
  "language_info": {
   "codemirror_mode": {
    "name": "ipython",
    "version": 3
   },
   "file_extension": ".py",
   "mimetype": "text/x-python",
   "name": "python",
   "nbconvert_exporter": "python",
   "pygments_lexer": "ipython3",
   "version": "3.5.5"
  }
 },
 "nbformat": 4,
 "nbformat_minor": 0
}
