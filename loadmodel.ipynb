{
 "cells": [
  {
   "cell_type": "code",
   "execution_count": 3,
   "metadata": {
    "collapsed": false
   },
   "outputs": [
    {
     "name": "stderr",
     "output_type": "stream",
     "text": [
      "Using TensorFlow backend.\n"
     ]
    }
   ],
   "source": [
    "import numpy as np\n",
    "from numpy import random\n",
    "import keras\n",
    "from keras import backend as k\n",
    "from keras.models import Sequential\n",
    "from keras.layers import Activation\n",
    "from keras.layers.core import Dense, Flatten\n",
    "from keras.optimizers import Adam\n",
    "from keras.metrics import categorical_crossentropy\n",
    "from keras.preprocessing.image import ImageDataGenerator\n",
    "from keras.layers.normalization import BatchNormalization\n",
    "from keras.layers.convolutional import *\n",
    "from matplotlib import pyplot as plt\n",
    "from sklearn.metrics import confusion_matrix\n",
    "import itertools\n",
    "import matplotlib.pyplot as plt\n",
    "from sklearn.model_selection import train_test_split\n",
    "from keras.models import load_model"
   ]
  },
  {
   "cell_type": "code",
   "execution_count": 6,
   "metadata": {
    "collapsed": false
   },
   "outputs": [],
   "source": [
    "dataset=np.load('/home/jabir/Project/MHCR/datasetgray.npy')"
   ]
  },
  {
   "cell_type": "code",
   "execution_count": 9,
   "metadata": {
    "collapsed": false
   },
   "outputs": [],
   "source": [
    "model=load_model('/home/jabir/Project/MHCR/modelMHCR_gray_2.8.96.97.h5')"
   ]
  },
  {
   "cell_type": "code",
   "execution_count": 4,
   "metadata": {
    "collapsed": false
   },
   "outputs": [
    {
     "data": {
      "image/svg+xml": [
       "<svg height=\"921pt\" viewBox=\"0.00 0.00 268.00 921.00\" width=\"268pt\" xmlns=\"http://www.w3.org/2000/svg\" xmlns:xlink=\"http://www.w3.org/1999/xlink\">\n",
       "<g class=\"graph\" id=\"graph0\" transform=\"scale(1 1) rotate(0) translate(4 917)\">\n",
       "<title>G</title>\n",
       "<polygon fill=\"#ffffff\" points=\"-4,4 -4,-917 264,-917 264,4 -4,4\" stroke=\"transparent\"/>\n",
       "<!-- 139618188880024 -->\n",
       "<g class=\"node\" id=\"node1\">\n",
       "<title>139618188880024</title>\n",
       "<polygon fill=\"none\" points=\"68.5,-803.5 68.5,-839.5 191.5,-839.5 191.5,-803.5 68.5,-803.5\" stroke=\"#000000\"/>\n",
       "<text fill=\"#000000\" font-family=\"Times,serif\" font-size=\"14.00\" text-anchor=\"middle\" x=\"130\" y=\"-817.8\">conv2d_1: Conv2D</text>\n",
       "</g>\n",
       "<!-- 139618188881200 -->\n",
       "<g class=\"node\" id=\"node2\">\n",
       "<title>139618188881200</title>\n",
       "<polygon fill=\"none\" points=\"26.5,-730.5 26.5,-766.5 233.5,-766.5 233.5,-730.5 26.5,-730.5\" stroke=\"#000000\"/>\n",
       "<text fill=\"#000000\" font-family=\"Times,serif\" font-size=\"14.00\" text-anchor=\"middle\" x=\"130\" y=\"-744.8\">max_pooling2d_1: MaxPooling2D</text>\n",
       "</g>\n",
       "<!-- 139618188880024&#45;&gt;139618188881200 -->\n",
       "<g class=\"edge\" id=\"edge2\">\n",
       "<title>139618188880024-&gt;139618188881200</title>\n",
       "<path d=\"M130,-803.4551C130,-795.3828 130,-785.6764 130,-776.6817\" fill=\"none\" stroke=\"#000000\"/>\n",
       "<polygon fill=\"#000000\" points=\"133.5001,-776.5903 130,-766.5904 126.5001,-776.5904 133.5001,-776.5903\" stroke=\"#000000\"/>\n",
       "</g>\n",
       "<!-- 139617911845272 -->\n",
       "<g class=\"node\" id=\"node3\">\n",
       "<title>139617911845272</title>\n",
       "<polygon fill=\"none\" points=\"0,-657.5 0,-693.5 260,-693.5 260,-657.5 0,-657.5\" stroke=\"#000000\"/>\n",
       "<text fill=\"#000000\" font-family=\"Times,serif\" font-size=\"14.00\" text-anchor=\"middle\" x=\"130\" y=\"-671.8\">batch_normalization_1: BatchNormalization</text>\n",
       "</g>\n",
       "<!-- 139618188881200&#45;&gt;139617911845272 -->\n",
       "<g class=\"edge\" id=\"edge3\">\n",
       "<title>139618188881200-&gt;139617911845272</title>\n",
       "<path d=\"M130,-730.4551C130,-722.3828 130,-712.6764 130,-703.6817\" fill=\"none\" stroke=\"#000000\"/>\n",
       "<polygon fill=\"#000000\" points=\"133.5001,-703.5903 130,-693.5904 126.5001,-703.5904 133.5001,-703.5903\" stroke=\"#000000\"/>\n",
       "</g>\n",
       "<!-- 139618188880864 -->\n",
       "<g class=\"node\" id=\"node4\">\n",
       "<title>139618188880864</title>\n",
       "<polygon fill=\"none\" points=\"68.5,-584.5 68.5,-620.5 191.5,-620.5 191.5,-584.5 68.5,-584.5\" stroke=\"#000000\"/>\n",
       "<text fill=\"#000000\" font-family=\"Times,serif\" font-size=\"14.00\" text-anchor=\"middle\" x=\"130\" y=\"-598.8\">conv2d_2: Conv2D</text>\n",
       "</g>\n",
       "<!-- 139617911845272&#45;&gt;139618188880864 -->\n",
       "<g class=\"edge\" id=\"edge4\">\n",
       "<title>139617911845272-&gt;139618188880864</title>\n",
       "<path d=\"M130,-657.4551C130,-649.3828 130,-639.6764 130,-630.6817\" fill=\"none\" stroke=\"#000000\"/>\n",
       "<polygon fill=\"#000000\" points=\"133.5001,-630.5903 130,-620.5904 126.5001,-630.5904 133.5001,-630.5903\" stroke=\"#000000\"/>\n",
       "</g>\n",
       "<!-- 139617911845160 -->\n",
       "<g class=\"node\" id=\"node5\">\n",
       "<title>139617911845160</title>\n",
       "<polygon fill=\"none\" points=\"26.5,-511.5 26.5,-547.5 233.5,-547.5 233.5,-511.5 26.5,-511.5\" stroke=\"#000000\"/>\n",
       "<text fill=\"#000000\" font-family=\"Times,serif\" font-size=\"14.00\" text-anchor=\"middle\" x=\"130\" y=\"-525.8\">max_pooling2d_2: MaxPooling2D</text>\n",
       "</g>\n",
       "<!-- 139618188880864&#45;&gt;139617911845160 -->\n",
       "<g class=\"edge\" id=\"edge5\">\n",
       "<title>139618188880864-&gt;139617911845160</title>\n",
       "<path d=\"M130,-584.4551C130,-576.3828 130,-566.6764 130,-557.6817\" fill=\"none\" stroke=\"#000000\"/>\n",
       "<polygon fill=\"#000000\" points=\"133.5001,-557.5903 130,-547.5904 126.5001,-557.5904 133.5001,-557.5903\" stroke=\"#000000\"/>\n",
       "</g>\n",
       "<!-- 139617911303024 -->\n",
       "<g class=\"node\" id=\"node6\">\n",
       "<title>139617911303024</title>\n",
       "<polygon fill=\"none\" points=\"0,-438.5 0,-474.5 260,-474.5 260,-438.5 0,-438.5\" stroke=\"#000000\"/>\n",
       "<text fill=\"#000000\" font-family=\"Times,serif\" font-size=\"14.00\" text-anchor=\"middle\" x=\"130\" y=\"-452.8\">batch_normalization_2: BatchNormalization</text>\n",
       "</g>\n",
       "<!-- 139617911845160&#45;&gt;139617911303024 -->\n",
       "<g class=\"edge\" id=\"edge6\">\n",
       "<title>139617911845160-&gt;139617911303024</title>\n",
       "<path d=\"M130,-511.4551C130,-503.3828 130,-493.6764 130,-484.6817\" fill=\"none\" stroke=\"#000000\"/>\n",
       "<polygon fill=\"#000000\" points=\"133.5001,-484.5903 130,-474.5904 126.5001,-484.5904 133.5001,-484.5903\" stroke=\"#000000\"/>\n",
       "</g>\n",
       "<!-- 139618189223192 -->\n",
       "<g class=\"node\" id=\"node7\">\n",
       "<title>139618189223192</title>\n",
       "<polygon fill=\"none\" points=\"68.5,-365.5 68.5,-401.5 191.5,-401.5 191.5,-365.5 68.5,-365.5\" stroke=\"#000000\"/>\n",
       "<text fill=\"#000000\" font-family=\"Times,serif\" font-size=\"14.00\" text-anchor=\"middle\" x=\"130\" y=\"-379.8\">conv2d_3: Conv2D</text>\n",
       "</g>\n",
       "<!-- 139617911303024&#45;&gt;139618189223192 -->\n",
       "<g class=\"edge\" id=\"edge7\">\n",
       "<title>139617911303024-&gt;139618189223192</title>\n",
       "<path d=\"M130,-438.4551C130,-430.3828 130,-420.6764 130,-411.6817\" fill=\"none\" stroke=\"#000000\"/>\n",
       "<polygon fill=\"#000000\" points=\"133.5001,-411.5903 130,-401.5904 126.5001,-411.5904 133.5001,-411.5903\" stroke=\"#000000\"/>\n",
       "</g>\n",
       "<!-- 139617912029080 -->\n",
       "<g class=\"node\" id=\"node8\">\n",
       "<title>139617912029080</title>\n",
       "<polygon fill=\"none\" points=\"26.5,-292.5 26.5,-328.5 233.5,-328.5 233.5,-292.5 26.5,-292.5\" stroke=\"#000000\"/>\n",
       "<text fill=\"#000000\" font-family=\"Times,serif\" font-size=\"14.00\" text-anchor=\"middle\" x=\"130\" y=\"-306.8\">max_pooling2d_3: MaxPooling2D</text>\n",
       "</g>\n",
       "<!-- 139618189223192&#45;&gt;139617912029080 -->\n",
       "<g class=\"edge\" id=\"edge8\">\n",
       "<title>139618189223192-&gt;139617912029080</title>\n",
       "<path d=\"M130,-365.4551C130,-357.3828 130,-347.6764 130,-338.6817\" fill=\"none\" stroke=\"#000000\"/>\n",
       "<polygon fill=\"#000000\" points=\"133.5001,-338.5903 130,-328.5904 126.5001,-338.5904 133.5001,-338.5903\" stroke=\"#000000\"/>\n",
       "</g>\n",
       "<!-- 139617783571624 -->\n",
       "<g class=\"node\" id=\"node9\">\n",
       "<title>139617783571624</title>\n",
       "<polygon fill=\"none\" points=\"0,-219.5 0,-255.5 260,-255.5 260,-219.5 0,-219.5\" stroke=\"#000000\"/>\n",
       "<text fill=\"#000000\" font-family=\"Times,serif\" font-size=\"14.00\" text-anchor=\"middle\" x=\"130\" y=\"-233.8\">batch_normalization_3: BatchNormalization</text>\n",
       "</g>\n",
       "<!-- 139617912029080&#45;&gt;139617783571624 -->\n",
       "<g class=\"edge\" id=\"edge9\">\n",
       "<title>139617912029080-&gt;139617783571624</title>\n",
       "<path d=\"M130,-292.4551C130,-284.3828 130,-274.6764 130,-265.6817\" fill=\"none\" stroke=\"#000000\"/>\n",
       "<polygon fill=\"#000000\" points=\"133.5001,-265.5903 130,-255.5904 126.5001,-265.5904 133.5001,-265.5903\" stroke=\"#000000\"/>\n",
       "</g>\n",
       "<!-- 139617911632392 -->\n",
       "<g class=\"node\" id=\"node10\">\n",
       "<title>139617911632392</title>\n",
       "<polygon fill=\"none\" points=\"75,-146.5 75,-182.5 185,-182.5 185,-146.5 75,-146.5\" stroke=\"#000000\"/>\n",
       "<text fill=\"#000000\" font-family=\"Times,serif\" font-size=\"14.00\" text-anchor=\"middle\" x=\"130\" y=\"-160.8\">flatten_1: Flatten</text>\n",
       "</g>\n",
       "<!-- 139617783571624&#45;&gt;139617911632392 -->\n",
       "<g class=\"edge\" id=\"edge10\">\n",
       "<title>139617783571624-&gt;139617911632392</title>\n",
       "<path d=\"M130,-219.4551C130,-211.3828 130,-201.6764 130,-192.6817\" fill=\"none\" stroke=\"#000000\"/>\n",
       "<polygon fill=\"#000000\" points=\"133.5001,-192.5903 130,-182.5904 126.5001,-192.5904 133.5001,-192.5903\" stroke=\"#000000\"/>\n",
       "</g>\n",
       "<!-- 139617783573976 -->\n",
       "<g class=\"node\" id=\"node11\">\n",
       "<title>139617783573976</title>\n",
       "<polygon fill=\"none\" points=\"79,-73.5 79,-109.5 181,-109.5 181,-73.5 79,-73.5\" stroke=\"#000000\"/>\n",
       "<text fill=\"#000000\" font-family=\"Times,serif\" font-size=\"14.00\" text-anchor=\"middle\" x=\"130\" y=\"-87.8\">dense_1: Dense</text>\n",
       "</g>\n",
       "<!-- 139617911632392&#45;&gt;139617783573976 -->\n",
       "<g class=\"edge\" id=\"edge11\">\n",
       "<title>139617911632392-&gt;139617783573976</title>\n",
       "<path d=\"M130,-146.4551C130,-138.3828 130,-128.6764 130,-119.6817\" fill=\"none\" stroke=\"#000000\"/>\n",
       "<polygon fill=\"#000000\" points=\"133.5001,-119.5903 130,-109.5904 126.5001,-119.5904 133.5001,-119.5903\" stroke=\"#000000\"/>\n",
       "</g>\n",
       "<!-- 139617782506776 -->\n",
       "<g class=\"node\" id=\"node12\">\n",
       "<title>139617782506776</title>\n",
       "<polygon fill=\"none\" points=\"79,-.5 79,-36.5 181,-36.5 181,-.5 79,-.5\" stroke=\"#000000\"/>\n",
       "<text fill=\"#000000\" font-family=\"Times,serif\" font-size=\"14.00\" text-anchor=\"middle\" x=\"130\" y=\"-14.8\">dense_2: Dense</text>\n",
       "</g>\n",
       "<!-- 139617783573976&#45;&gt;139617782506776 -->\n",
       "<g class=\"edge\" id=\"edge12\">\n",
       "<title>139617783573976-&gt;139617782506776</title>\n",
       "<path d=\"M130,-73.4551C130,-65.3828 130,-55.6764 130,-46.6817\" fill=\"none\" stroke=\"#000000\"/>\n",
       "<polygon fill=\"#000000\" points=\"133.5001,-46.5903 130,-36.5904 126.5001,-46.5904 133.5001,-46.5903\" stroke=\"#000000\"/>\n",
       "</g>\n",
       "<!-- 139618188880080 -->\n",
       "<g class=\"node\" id=\"node13\">\n",
       "<title>139618188880080</title>\n",
       "<polygon fill=\"none\" points=\"71,-876.5 71,-912.5 189,-912.5 189,-876.5 71,-876.5\" stroke=\"#000000\"/>\n",
       "<text fill=\"#000000\" font-family=\"Times,serif\" font-size=\"14.00\" text-anchor=\"middle\" x=\"130\" y=\"-890.8\">139618188880080</text>\n",
       "</g>\n",
       "<!-- 139618188880080&#45;&gt;139618188880024 -->\n",
       "<g class=\"edge\" id=\"edge1\">\n",
       "<title>139618188880080-&gt;139618188880024</title>\n",
       "<path d=\"M130,-876.4551C130,-868.3828 130,-858.6764 130,-849.6817\" fill=\"none\" stroke=\"#000000\"/>\n",
       "<polygon fill=\"#000000\" points=\"133.5001,-849.5903 130,-839.5904 126.5001,-849.5904 133.5001,-849.5903\" stroke=\"#000000\"/>\n",
       "</g>\n",
       "</g>\n",
       "</svg>"
      ],
      "text/plain": [
       "<IPython.core.display.SVG object>"
      ]
     },
     "execution_count": 4,
     "metadata": {},
     "output_type": "execute_result"
    }
   ],
   "source": [
    "from IPython.display import SVG\n",
    "from keras.utils.vis_utils import model_to_dot\n",
    "\n",
    "SVG(model_to_dot(model).create(prog='dot', format='svg'))"
   ]
  },
  {
   "cell_type": "markdown",
   "metadata": {},
   "source": [
    "X=np.array([i[0]for i in dataset])\n",
    "y=np.array([i[1] for i in dataset])\n",
    "\n",
    "X_train,X_test,y_train,y_test=train_test_split(X, y, test_size=0.2, random_state=1)\n",
    "print(X_train.shape,X_test.shape,y_train.shape,y_test.shape)\n",
    "\n",
    "X_train,X_val,y_train,y_val=train_test_split(X_train, y_train, test_size=0.2, random_state=1)\n",
    "print(X_train.shape,X_val.shape,y_train.shape,y_val.shape)"
   ]
  },
  {
   "cell_type": "code",
   "execution_count": 11,
   "metadata": {
    "collapsed": false
   },
   "outputs": [
    {
     "name": "stdout",
     "output_type": "stream",
     "text": [
      "(73521, 86, 86) (18381, 86, 86) (73521, 44) (18381, 44)\n",
      "(58816, 86, 86) (14705, 86, 86) (58816, 44) (14705, 44)\n"
     ]
    }
   ],
   "source": [
    "X=np.array([i[0]for i in dataset])\n",
    "y=np.array([i[1] for i in dataset])\n",
    "\n",
    "X_train,X_test,y_train,y_test=train_test_split(X, y, test_size=0.2, random_state=1) \n",
    "print(X_train.shape,X_test.shape,y_train.shape,y_test.shape)\n",
    "\n",
    "X_train,X_val,y_train,y_val=train_test_split(X_train, y_train, test_size=0.2, random_state=1)\n",
    "print(X_train.shape,X_val.shape,y_train.shape,y_val.shape)\n"
   ]
  },
  {
   "cell_type": "code",
   "execution_count": null,
   "metadata": {
    "collapsed": true
   },
   "outputs": [],
   "source": [
    "#np.save('/home/workstation/Desktop/jab/MHCR/testfile2.npy',test)"
   ]
  },
  {
   "cell_type": "code",
   "execution_count": null,
   "metadata": {
    "collapsed": true
   },
   "outputs": [],
   "source": [
    "c=np.load('/home/jabir/Project/MHCR/testfile2.npy')"
   ]
  },
  {
   "cell_type": "code",
   "execution_count": null,
   "metadata": {
    "collapsed": false
   },
   "outputs": [],
   "source": [
    "print(c)"
   ]
  },
  {
   "cell_type": "code",
   "execution_count": null,
   "metadata": {
    "collapsed": true
   },
   "outputs": [],
   "source": [
    "def get_confusion_matrix_one_hot(model_results, truth):\n",
    "        '''model_results and truth should be for one-hot format, i.e, have >= 2 columns,\n",
    "        where truth is 0/1, and max along each row of model_results is model result\n",
    "        '''\n",
    "        assert model_results.shape == truth.shape\n",
    "        num_outputs = truth.shape[1]\n",
    "        confusion_matrix = np.zeros((num_outputs, num_outputs), dtype=np.int32)\n",
    "        predictions = np.argmax(model_results,axis=1)\n",
    "        assert len(predictions)==truth.shape[0]\n",
    "\n",
    "        for actual_class in range(num_outputs):\n",
    "            idx_examples_this_class = truth[:,actual_class]==1\n",
    "            prediction_for_this_class = predictions[idx_examples_this_class]\n",
    "            for predicted_class in range(num_outputs):\n",
    "                count = np.sum(prediction_for_this_class==predicted_class)\n",
    "                confusion_matrix[actual_class, predicted_class] = count\n",
    "        assert np.sum(confusion_matrix)==len(truth)\n",
    "        assert np.sum(confusion_matrix)==np.sum(truth)\n",
    "        return confusion_matrix"
   ]
  },
  {
   "cell_type": "markdown",
   "metadata": {},
   "source": [
    "import cv2\n",
    "predict=model.predict(np.array(cv2.imread('/home/workstation/Desktop/jab/DATASET/CHAR14/MD14.jpg')).reshape(-1,86,86,3))"
   ]
  },
  {
   "cell_type": "code",
   "execution_count": null,
   "metadata": {
    "collapsed": false,
    "scrolled": true
   },
   "outputs": [],
   "source": [
    "import cv2\n",
    "predict=model.predict(np.array(cv2.imread('/home/jabir/Project/MHCR/DATASET/CHAR23/MD199.jpg')).reshape(-1,86,86,3))\n",
    "print(predict.shape)"
   ]
  },
  {
   "cell_type": "code",
   "execution_count": 12,
   "metadata": {
    "collapsed": false
   },
   "outputs": [
    {
     "name": "stdout",
     "output_type": "stream",
     "text": [
      "22 0.9426167\n"
     ]
    }
   ],
   "source": [
    "m=max(predict[0])\n",
    "for i in range(len(predict[0])):\n",
    "    if predict[0][i]==m:\n",
    "        print(i,m)\n",
    "    #else :print(predict[0][i],m)"
   ]
  },
  {
   "cell_type": "code",
   "execution_count": null,
   "metadata": {
    "collapsed": false
   },
   "outputs": [],
   "source": [
    "con_mat=get_confusion_matrix_one_hot(predict,y_test)\n",
    "print(X_test.shape)\n",
    "print(con_mat)"
   ]
  },
  {
   "cell_type": "markdown",
   "metadata": {},
   "source": [
    "## plot confusion matrix"
   ]
  },
  {
   "cell_type": "code",
   "execution_count": null,
   "metadata": {
    "collapsed": true
   },
   "outputs": [],
   "source": [
    "def plot_confusion_matrix(cm,\n",
    "                          target_names,\n",
    "                          title='Confusion matrix',\n",
    "                          cmap=None,\n",
    "                          normalize=True):\n",
    "    accuracy = np.trace(cm) / float(np.sum(cm))\n",
    "    misclass = 1 - accuracy\n",
    "\n",
    "    if cmap is None:\n",
    "        cmap = plt.get_cmap('Blues')\n",
    "\n",
    "    plt.figure(figsize=(8, 6))\n",
    "    plt.imshow(cm, interpolation='nearest', cmap=cmap)\n",
    "    plt.title(title)\n",
    "    plt.colorbar()\n",
    "\n",
    "    if target_names is not None:\n",
    "        tick_marks = np.arange(len(target_names))\n",
    "        plt.xticks(tick_marks, target_names, rotation=45)\n",
    "        plt.yticks(tick_marks, target_names)\n",
    "\n",
    "    if normalize:\n",
    "        cm = cm.astype('float') / cm.sum(axis=1)[:, np.newaxis]\n",
    "\n",
    "\n",
    "    thresh = cm.max() / 1.5 if normalize else cm.max() / 2\n",
    "    for i, j in itertools.product(range(cm.shape[0]), range(cm.shape[1])):\n",
    "        if normalize:\n",
    "            plt.text(j, i, \"{:0.4f}\".format(cm[i, j]),\n",
    "                     horizontalalignment=\"center\",\n",
    "                     color=\"white\" if cm[i, j] > thresh else \"black\")\n",
    "        else:\n",
    "            plt.text(j, i, \"{:,}\".format(cm[i, j]),\n",
    "                     horizontalalignment=\"center\",\n",
    "                     color=\"white\" if cm[i, j] > thresh else \"black\")\n",
    "\n",
    "\n",
    "    plt.tight_layout()\n",
    "    plt.ylabel('True label')\n",
    "    plt.xlabel('Predicted label\\naccuracy={:0.4f}; misclass={:0.4f}'.format(accuracy, misclass))\n",
    "    plt.show()"
   ]
  },
  {
   "cell_type": "code",
   "execution_count": null,
   "metadata": {
    "collapsed": true
   },
   "outputs": [],
   "source": [
    "names=['ch'+str(i) for i in range(44)]"
   ]
  },
  {
   "cell_type": "code",
   "execution_count": null,
   "metadata": {
    "collapsed": true
   },
   "outputs": [],
   "source": [
    "plot_confusion_matrix(cm           = con_mat, \n",
    "                      normalize    = False,\n",
    "                      target_names = names,\n",
    "                      title        = \"Confusion Matrix\")\n"
   ]
  },
  {
   "cell_type": "code",
   "execution_count": 2,
   "metadata": {
    "collapsed": true
   },
   "outputs": [],
   "source": [
    "def mplot(img):\n",
    "    plt.gcf().clear()\n",
    "    plt.imshow(img, cmap = 'gray', interpolation = 'bicubic')\n",
    "    plt.xticks([]), plt.yticks([])  # to hide tick values on X and Y axis\n",
    "    plt.show()"
   ]
  },
  {
   "cell_type": "markdown",
   "metadata": {},
   "source": [
    "from keras import backend as K\n",
    "K.clear_session()"
   ]
  },
  {
   "cell_type": "code",
   "execution_count": 77,
   "metadata": {
    "collapsed": false
   },
   "outputs": [],
   "source": [
    "import matplotlib.pyplot as plt\n",
    "import cv2\n",
    "img=cv2.imread('/home/jabir/Project/MHCR/realtest/img2.jpg',1)\n",
    "#cv2.imshow('image',img)\n",
    "#cv2.waitkey(0)\n",
    "#cv2.destroyAllWindows()\n",
    "mplot(img)"
   ]
  },
  {
   "cell_type": "code",
   "execution_count": 81,
   "metadata": {
    "collapsed": false
   },
   "outputs": [],
   "source": [
    "imgray = cv2.cvtColor(img,cv2.COLOR_BGR2GRAY)\n",
    "ret,thresh = cv2.threshold(img,100,200,0)\n",
    "#thresh=cv2.GaussianBlur(thresh,(3,3),0)\n",
    "image, contours, hierarchy = cv2.findContours(imgray,cv2.RETR_TREE,cv2.CHAIN_APPROX_SIMPLE)\n",
    "\n",
    "img2 = cv2.drawContours(imgray, contours, -1, (0,255,0), 3)\n",
    "\n",
    "#cnt = contours[4]\n",
    "#img3 = cv2.drawContours(thresh, [cnt], 0, (0,255,0), 3)\n",
    "#mplot(img3)"
   ]
  },
  {
   "cell_type": "code",
   "execution_count": 67,
   "metadata": {
    "collapsed": false
   },
   "outputs": [],
   "source": [
    "img2=cv2.adaptiveThreshold(imgray,255,cv2.ADAPTIVE_THRESH_MEAN_C,cv2.THRESH_BINARY,11,2)"
   ]
  },
  {
   "cell_type": "code",
   "execution_count": 69,
   "metadata": {
    "collapsed": false
   },
   "outputs": [],
   "source": [
    "import numpy as np\n",
    "kernel=np.ones((4,4),np.uint8)\n",
    "#th3 = cv2.adaptiveThreshold(img,255,cv2.ADAPTIVE_THRESH_GAUSSIAN_C,cv.THRESH_BINARY,11,2)\n",
    "img3 = cv2.adaptiveThreshold(img2,255,cv2.ADAPTIVE_THRESH_MEAN_C,cv2.THRESH_BINARY,11,2)\n",
    "\n",
    "img2=cv2.dilate(img3,kernel,iterations=1)\n",
    "img2=cv2.erode(img2,kernel,iterations=1)\n"
   ]
  },
  {
   "cell_type": "code",
   "execution_count": 70,
   "metadata": {
    "collapsed": false
   },
   "outputs": [],
   "source": [
    "mplot(img2)"
   ]
  },
  {
   "cell_type": "code",
   "execution_count": 71,
   "metadata": {
    "collapsed": true
   },
   "outputs": [],
   "source": [
    "ret, thresh = cv2.threshold(img2, 10, 200, cv2.THRESH_OTSU)\n",
    "mplot(thresh)"
   ]
  },
  {
   "cell_type": "code",
   "execution_count": 82,
   "metadata": {
    "collapsed": false,
    "scrolled": true
   },
   "outputs": [
    {
     "name": "stdout",
     "output_type": "stream",
     "text": [
      "4.0,9.5,13.0,33.5,35.0,32.0,23.5,10.5,19.5,18.0,28.5,24.0,89.0,26.5,69.0,8.5,6.5,14.5,10.5,41.0,19.5,60.0,5.0,27.0,30.0,77.5,18.5,77.0,19.5,53.5,43.5,5.0,3.5,2.0,11.5,43.5,3.5,17.0,12.0,23.5,10.5,34.0,56.5,11.0,36.0,4.0,82.0,16.0,13.0,19.0,13.0,25.5,6.5,17.0,23.5,19.5,26.0,11.0,14.0,7.0,17.5,11.0,16.0,28.0,17.0,58.0,25.5,13.0,85.0,42.5,9.5,13.0,10.0,6.5,39.5,13.0,23.0,31.0,15.5,19.5,31.0,9.5,19.5,19.0,8.0,20.0,15.5,62.5,21.5,8.0,17.5,29.0,7.5,34.0,24.5,11.0,13.0,31.5,19.5,8.0,5.0,12.0,5.0,13.0,5.5,30.5,19.5,14.0,49.5,53.0,65.5,17.5,5.5,38.0,38.0,15.5,22.5,10.5,27.0,7.5,"
     ]
    }
   ],
   "source": [
    "canny=cv2.Canny(thresh,100,200)\n",
    "\n",
    "image, contours, hierarchy = cv2.findContours(canny,cv2.RETR_TREE,cv2.CHAIN_APPROX_SIMPLE)\n",
    "img2 = cv2.drawContours(cv2.bitwise_not(canny), contours, -1, (0,255,0), 2)\n",
    "img2=cv2.GaussianBlur(img2,(9,9),0)\n",
    "mplot(img2)\n",
    "for c in contours:\n",
    "    rect = cv2.boundingRect(c)\n",
    "    if rect[2] < 20 or rect[3] < 20:\n",
    "        continue\n",
    "    print(cv2.contourArea(c),end=',')\n",
    "    x,y,w,h = rect\n",
    "    cv2.rectangle(img,(x,y),(x+w,y+h),(0,0,0),4)\n",
    "    cv2.putText(img,'Moth Detected',(x+w+10,y+h),0,0.3,(0,0,0))"
   ]
  },
  {
   "cell_type": "code",
   "execution_count": 74,
   "metadata": {
    "collapsed": true
   },
   "outputs": [],
   "source": [
    "mplot(img)"
   ]
  },
  {
   "cell_type": "code",
   "execution_count": 75,
   "metadata": {
    "collapsed": false
   },
   "outputs": [],
   "source": [
    "#static thresholding\n",
    "ret,thresh = cv2.threshold(img,100,255,0)\n",
    "thresh=cv2.GaussianBlur(thresh,(3,3),0)\n",
    "mplot(thresh)"
   ]
  },
  {
   "cell_type": "code",
   "execution_count": null,
   "metadata": {
    "collapsed": false
   },
   "outputs": [],
   "source": [
    "roi=thresh[1130:1530,580:1080]\n",
    "print(img.shape)"
   ]
  },
  {
   "cell_type": "code",
   "execution_count": null,
   "metadata": {
    "collapsed": false
   },
   "outputs": [],
   "source": [
    "\n",
    "roi=cv2.resize(roi,(86,86),cv2.INTER_AREA)\n",
    "mplot(roi)"
   ]
  },
  {
   "cell_type": "code",
   "execution_count": null,
   "metadata": {
    "collapsed": false
   },
   "outputs": [],
   "source": [
    "import cv2\n",
    "roi = cv2.cvtColor(roi,cv2.COLOR_GRAY2RGB)\n",
    "predict=model.predict(np.array(roi).reshape(-1,86,86,3))\n",
    "print(predict.shape)"
   ]
  },
  {
   "cell_type": "code",
   "execution_count": null,
   "metadata": {
    "collapsed": false
   },
   "outputs": [],
   "source": [
    "m=max(predict[0])\n",
    "for i in range(len(predict[0])):\n",
    "    #if predict[0][i]==m:\n",
    "    print(i,predict[0][i])\n",
    "        "
   ]
  },
  {
   "cell_type": "code",
   "execution_count": 1,
   "metadata": {
    "collapsed": false
   },
   "outputs": [
    {
     "name": "stdout",
     "output_type": "stream",
     "text": [
      "തണശോീ\n"
     ]
    }
   ],
   "source": [
    "print(u'\\u0D24\\u0D23\\u0D36\\u0D4b\\u0D40')"
   ]
  },
  {
   "cell_type": "code",
   "execution_count": 83,
   "metadata": {
    "collapsed": false
   },
   "outputs": [],
   "source": [
    "c=cv2.Canny(img,100,200)\n",
    "image, contours, hierarchy = cv2.findContours(c,cv2.RETR_TREE,cv2.CHAIN_APPROX_SIMPLE)\n",
    "img2 = cv2.drawContours(img, contours, -1, (0,255,0), 3)\n",
    "mplot(img2)"
   ]
  },
  {
   "cell_type": "code",
   "execution_count": 2,
   "metadata": {
    "collapsed": false
   },
   "outputs": [
    {
     "ename": "NameError",
     "evalue": "name 'cv2' is not defined",
     "output_type": "error",
     "traceback": [
      "\u001b[1;31m---------------------------------------------------------------------------\u001b[0m",
      "\u001b[1;31mNameError\u001b[0m                                 Traceback (most recent call last)",
      "\u001b[1;32m<ipython-input-2-72fe360e7fe3>\u001b[0m in \u001b[0;36m<module>\u001b[1;34m()\u001b[0m\n\u001b[1;32m----> 1\u001b[1;33m \u001b[0mret\u001b[0m\u001b[1;33m,\u001b[0m\u001b[0mthresh\u001b[0m \u001b[1;33m=\u001b[0m \u001b[0mcv2\u001b[0m\u001b[1;33m.\u001b[0m\u001b[0mthreshold\u001b[0m\u001b[1;33m(\u001b[0m\u001b[0mimg2\u001b[0m\u001b[1;33m,\u001b[0m\u001b[1;36m50\u001b[0m\u001b[1;33m,\u001b[0m\u001b[1;36m255\u001b[0m\u001b[1;33m,\u001b[0m\u001b[1;36m0\u001b[0m\u001b[1;33m)\u001b[0m\u001b[1;33m\u001b[0m\u001b[0m\n\u001b[0m\u001b[0;32m      2\u001b[0m \u001b[0mmplot\u001b[0m\u001b[1;33m(\u001b[0m\u001b[0mthresh\u001b[0m\u001b[1;33m)\u001b[0m\u001b[1;33m\u001b[0m\u001b[0m\n",
      "\u001b[1;31mNameError\u001b[0m: name 'cv2' is not defined"
     ]
    }
   ],
   "source": [
    "ret,thresh = cv2.threshold(img2,50,255,0)\n",
    "mplot(thresh)"
   ]
  },
  {
   "cell_type": "code",
   "execution_count": null,
   "metadata": {
    "collapsed": true
   },
   "outputs": [],
   "source": []
  }
 ],
 "metadata": {
  "kernelspec": {
   "display_name": "Python 3",
   "language": "python",
   "name": "python3"
  },
  "language_info": {
   "codemirror_mode": {
    "name": "ipython",
    "version": 3
   },
   "file_extension": ".py",
   "mimetype": "text/x-python",
   "name": "python",
   "nbconvert_exporter": "python",
   "pygments_lexer": "ipython3",
   "version": "3.5.5"
  }
 },
 "nbformat": 4,
 "nbformat_minor": 0
}
