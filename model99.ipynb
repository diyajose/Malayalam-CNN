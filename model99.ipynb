{
 "cells": [
  {
   "cell_type": "code",
   "execution_count": 1,
   "metadata": {
    "collapsed": true
   },
   "outputs": [],
   "source": [
    "'''import tensorflow as tf\n",
    "config = tf.ConfigProto()\n",
    "config.gpu_options.allow_growth = True\n",
    "sess = tf.Session(config=config)'''"
   ]
  },
  {
   "cell_type": "code",
   "execution_count": 1,
   "metadata": {
    "collapsed": false
   },
   "outputs": [
    {
     "name": "stderr",
     "output_type": "stream",
     "text": [
      "Using TensorFlow backend.\n"
     ]
    }
   ],
   "source": [
    "import numpy as np\n",
    "from numpy import random\n",
    "import keras\n",
    "from keras import backend as k\n",
    "from keras.models import Sequential\n",
    "from keras.layers import Activation\n",
    "from keras.layers.core import Dense, Flatten\n",
    "from keras.optimizers import Adam\n",
    "from keras.metrics import categorical_crossentropy\n",
    "from keras.preprocessing.image import ImageDataGenerator\n",
    "from keras.layers.normalization import BatchNormalization\n",
    "from keras.layers.convolutional import *\n",
    "from matplotlib import pyplot as plt\n",
    "from sklearn.metrics import confusion_matrix\n",
    "import itertools\n",
    "import matplotlib.pyplot as plt\n",
    "from sklearn.model_selection import train_test_split\n",
    "from keras.models import load_model\n",
    "#print(\"hai\")"
   ]
  },
  {
   "cell_type": "code",
   "execution_count": 2,
   "metadata": {
    "collapsed": false
   },
   "outputs": [],
   "source": [
    "dataset=np.load('/home/jabir/Project/MHCR/datasetgray.npy')"
   ]
  },
  {
   "cell_type": "code",
   "execution_count": null,
   "metadata": {
    "collapsed": false
   },
   "outputs": [],
   "source": [
    "'''random.shuffle(dataset)\n",
    "external=dataset[-10000:]\n",
    "dataset=dataset[:-10000]\n",
    "print(external.shape,dataset.shape)\n",
    "xe=np.array([i[0]for i in external]).reshape(-1,86,86,1)\n",
    "ye=np.array([i[1] for i in external])\n",
    "'''"
   ]
  },
  {
   "cell_type": "code",
   "execution_count": 3,
   "metadata": {
    "collapsed": false
   },
   "outputs": [],
   "source": [
    "\n",
    "def generator(features, labels, batch_size):\n",
    "    batch_features = np.zeros((batch_size, 86,86,1))\n",
    "    batch_labels = np.zeros((batch_size,44))\n",
    "    \n",
    "    while True:\n",
    "        for i in range(batch_size):\n",
    "     # choose random index in features\n",
    "            index= random.choice(len(features),1)\n",
    "            batch_features[i] = features[index]\n",
    "            batch_labels[i] = labels[index]\n",
    "        yield batch_features, batch_labels"
   ]
  },
  {
   "cell_type": "code",
   "execution_count": 4,
   "metadata": {
    "collapsed": false,
    "scrolled": true
   },
   "outputs": [
    {
     "name": "stdout",
     "output_type": "stream",
     "text": [
      "(73521, 86, 86, 1) (18381, 86, 86, 1) (73521, 44) (18381, 44)\n",
      "(58816, 86, 86, 1) (14705, 86, 86, 1) (58816, 44) (14705, 44)\n"
     ]
    }
   ],
   "source": [
    "\n",
    "X=np.array([i[0]for i in dataset]).reshape(-1,86,86,1)\n",
    "y=np.array([i[1] for i in dataset])\n",
    "X_train,X_test,y_train,y_test=train_test_split(X, y, test_size=0.2, random_state=1)\n",
    "\n",
    "print(X_train.shape,X_test.shape,y_train.shape,y_test.shape)\n",
    "\n",
    "X_train,X_val,y_train,y_val=train_test_split(X_train, y_train, test_size=0.2, random_state=1)\n",
    "\n",
    "print(X_train.shape,X_val.shape,y_train.shape,y_val.shape)\n",
    "\n"
   ]
  },
  {
   "cell_type": "code",
   "execution_count": null,
   "metadata": {
    "collapsed": false
   },
   "outputs": [],
   "source": [
    "'''def mplot(img):\n",
    "    plt.gcf().clear()\n",
    "    plt.imshow(img, cmap = 'gray', interpolation = 'bicubic')\n",
    "    plt.xticks([]), plt.yticks([])  # to hide tick values on X and Y axis\n",
    "    plt.show()\n",
    "print(dataset[50])\n",
    "mplot(dataset[50][0])\n",
    "print(dataset[50][1].tolist().index(1)+1)\n",
    "'''"
   ]
  },
  {
   "cell_type": "code",
   "execution_count": 5,
   "metadata": {
    "collapsed": false
   },
   "outputs": [],
   "source": [
    "from keras.layers import Dense, Conv2D, MaxPool2D, Flatten, Dropout, BatchNormalization\n",
    "#imgs,labels=next(train_batches)\n",
    "#imgs,labels=next(generator(X_train,y_train,500))"
   ]
  },
  {
   "cell_type": "code",
   "execution_count": null,
   "metadata": {
    "collapsed": false,
    "scrolled": true
   },
   "outputs": [],
   "source": [
    "'''\n",
    "model = Sequential()\n",
    "model.add(Conv2D(32, 3, activation='relu', input_shape=[86, 86, 1]))\n",
    "model.add(MaxPool2D())\n",
    "model.add(BatchNormalization())\n",
    "model.add(Conv2D(64,3, activation='relu'))\n",
    "model.add(MaxPool2D())\n",
    "model.add(BatchNormalization())\n",
    "model.add(Conv2D(128, 3, activation='relu'))\n",
    "model.add(MaxPool2D())\n",
    "model.add(BatchNormalization())\n",
    "model.add(Flatten())\n",
    "model.add(Dense(256, activation='relu'))\n",
    "model.add(Dense(44, activation='softmax'))\n",
    "model.summary()\n",
    "'''"
   ]
  },
  {
   "cell_type": "code",
   "execution_count": 6,
   "metadata": {
    "collapsed": false
   },
   "outputs": [
    {
     "name": "stdout",
     "output_type": "stream",
     "text": [
      "_________________________________________________________________\n",
      "Layer (type)                 Output Shape              Param #   \n",
      "=================================================================\n",
      "conv2d_1 (Conv2D)            (None, 84, 84, 32)        320       \n",
      "_________________________________________________________________\n",
      "max_pooling2d_1 (MaxPooling2 (None, 42, 42, 32)        0         \n",
      "_________________________________________________________________\n",
      "batch_normalization_1 (Batch (None, 42, 42, 32)        128       \n",
      "_________________________________________________________________\n",
      "conv2d_2 (Conv2D)            (None, 40, 40, 64)        18496     \n",
      "_________________________________________________________________\n",
      "max_pooling2d_2 (MaxPooling2 (None, 20, 20, 64)        0         \n",
      "_________________________________________________________________\n",
      "batch_normalization_2 (Batch (None, 20, 20, 64)        256       \n",
      "_________________________________________________________________\n",
      "conv2d_3 (Conv2D)            (None, 18, 18, 128)       73856     \n",
      "_________________________________________________________________\n",
      "max_pooling2d_3 (MaxPooling2 (None, 9, 9, 128)         0         \n",
      "_________________________________________________________________\n",
      "batch_normalization_3 (Batch (None, 9, 9, 128)         512       \n",
      "_________________________________________________________________\n",
      "conv2d_4 (Conv2D)            (None, 7, 7, 256)         295168    \n",
      "_________________________________________________________________\n",
      "max_pooling2d_4 (MaxPooling2 (None, 3, 3, 256)         0         \n",
      "_________________________________________________________________\n",
      "flatten_1 (Flatten)          (None, 2304)              0         \n",
      "_________________________________________________________________\n",
      "dense_1 (Dense)              (None, 512)               1180160   \n",
      "_________________________________________________________________\n",
      "dropout_1 (Dropout)          (None, 512)               0         \n",
      "_________________________________________________________________\n",
      "dense_2 (Dense)              (None, 1024)              525312    \n",
      "_________________________________________________________________\n",
      "dropout_2 (Dropout)          (None, 1024)              0         \n",
      "_________________________________________________________________\n",
      "dense_3 (Dense)              (None, 512)               524800    \n",
      "_________________________________________________________________\n",
      "dropout_3 (Dropout)          (None, 512)               0         \n",
      "_________________________________________________________________\n",
      "dense_4 (Dense)              (None, 44)                22572     \n",
      "=================================================================\n",
      "Total params: 2,641,580\n",
      "Trainable params: 2,641,132\n",
      "Non-trainable params: 448\n",
      "_________________________________________________________________\n"
     ]
    }
   ],
   "source": [
    "model2 = Sequential()\n",
    "model2.add(Conv2D(32, kernel_size=(3, 3),activation='relu',input_shape=(86, 86, 1)))\n",
    "model2.add(MaxPooling2D(pool_size=(2, 2)))\n",
    "model2.add(BatchNormalization())\n",
    "model2.add(Conv2D(64, (3, 3), activation='relu'))\n",
    "\n",
    "\n",
    "model2.add(MaxPooling2D(pool_size=(2, 2)))\n",
    "model2.add(BatchNormalization())\n",
    "model2.add(Conv2D(128, (3, 3), activation='relu'))\n",
    "\n",
    "\n",
    "model2.add(MaxPooling2D(pool_size=(2, 2)))\n",
    "model2.add(BatchNormalization())\n",
    "model2.add(Conv2D(256, (3, 3), activation='relu'))\n",
    "\n",
    "\n",
    "model2.add(MaxPooling2D(pool_size=(2, 2)))\n",
    "model2.add(Flatten())\n",
    "\n",
    "model2.add(Dense(512, activation='relu'))\n",
    "model2.add(Dropout(0.25))\n",
    "\n",
    "model2.add(Dense(1024, activation='relu'))\n",
    "model2.add(Dropout(0.5))\n",
    "\n",
    "model2.add(Dense(512, activation='relu'))\n",
    "model2.add(Dropout(0.5))\n",
    "\n",
    "model2.add(Dense(44, activation='softmax'))\n",
    "\n",
    "model2.summary()"
   ]
  },
  {
   "cell_type": "code",
   "execution_count": null,
   "metadata": {
    "collapsed": false
   },
   "outputs": [],
   "source": [
    "#model.compile(optimizer='adam', loss='categorical_crossentropy', metrics=['accuracy'])\n",
    "from keras.optimizers import Adam\n",
    "# optimizer = Adam(lr=0.0005, beta_1=0.9,beta_2=0.999, epsilon=1e-08, decay=0.0) #96.75/90/92\n",
    "#optimizer = Adam(lr=0.0005, beta_1=0.9,beta_2=0.8, epsilon=1e-09, decay=0.0)"
   ]
  },
  {
   "cell_type": "code",
   "execution_count": 8,
   "metadata": {
    "collapsed": false
   },
   "outputs": [],
   "source": [
    "\n",
    "model2.compile(optimizer='adam', loss='categorical_crossentropy', metrics=['accuracy'])\n",
    "\n",
    "#model2.compile(optimizer=optimizer, loss='categorical_crossentropy', metrics=['accuracy'])"
   ]
  },
  {
   "cell_type": "code",
   "execution_count": null,
   "metadata": {
    "collapsed": true
   },
   "outputs": [],
   "source": [
    "#model.fit_generator(generator(X_train,y_train,200),steps_per_epoch=450,validation_data=generator(X_val,y_val,147),validation_steps=100,epochs=10,verbose=1)"
   ]
  },
  {
   "cell_type": "code",
   "execution_count": null,
   "metadata": {
    "collapsed": false,
    "scrolled": false
   },
   "outputs": [
    {
     "name": "stdout",
     "output_type": "stream",
     "text": [
      "Epoch 1/10\n",
      " 93/459 [=====>........................] - ETA: 12:27 - loss: 3.3570 - acc: 0.1097"
     ]
    }
   ],
   "source": [
    " model2.fit_generator(generator(X_train,y_train,128),steps_per_epoch=58816/128,validation_data=generator(X_val,y_val,140),validation_steps=100,epochs=10,verbose=1)"
   ]
  },
  {
   "cell_type": "code",
   "execution_count": 14,
   "metadata": {
    "collapsed": true
   },
   "outputs": [],
   "source": [
    "#np.save('/home/workstation/Desktop/jab/MHCR/testfile.npy',dataset[-18381:])\n",
    "#del model2"
   ]
  },
  {
   "cell_type": "code",
   "execution_count": null,
   "metadata": {
    "collapsed": false
   },
   "outputs": [],
   "source": [
    "#tdata=np.load('/home/workstation/Desktop/jab/MHCR/testfile.npy')\n",
    "#print(tdata.shape)"
   ]
  },
  {
   "cell_type": "code",
   "execution_count": null,
   "metadata": {
    "collapsed": false
   },
   "outputs": [],
   "source": [
    "#model2=load_model('/home/workstation/Desktop/jab/MHCR/modelMHCR_gray_3_99.h5')"
   ]
  },
  {
   "cell_type": "code",
   "execution_count": 15,
   "metadata": {
    "collapsed": true
   },
   "outputs": [],
   "source": [
    "def get_confusion_matrix_one_hot(model_results, truth):\n",
    "        '''model_results and truth should be for one-hot format, i.e, have >= 2 columns,\n",
    "        where truth is 0/1, and max along each row of model_results is model result\n",
    "        '''\n",
    "        assert model_results.shape == truth.shape\n",
    "        num_outputs = truth.shape[1]\n",
    "        confusion_matrix = np.zeros((num_outputs, num_outputs), dtype=np.int32)\n",
    "        predictions = np.argmax(model_results,axis=1)\n",
    "        assert len(predictions)==truth.shape[0]\n",
    "\n",
    "        for actual_class in range(num_outputs):\n",
    "            idx_examples_this_class = truth[:,actual_class]==1\n",
    "            prediction_for_this_class = predictions[idx_examples_this_class]\n",
    "            for predicted_class in range(num_outputs):\n",
    "                count = np.sum(prediction_for_this_class==predicted_class)\n",
    "                confusion_matrix[actual_class, predicted_class] = count\n",
    "        assert np.sum(confusion_matrix)==len(truth)\n",
    "        assert np.sum(confusion_matrix)==np.sum(truth)\n",
    "        return confusion_matrix"
   ]
  },
  {
   "cell_type": "code",
   "execution_count": 16,
   "metadata": {
    "collapsed": false
   },
   "outputs": [],
   "source": [
    "predict=model2.predict(X_test)"
   ]
  },
  {
   "cell_type": "code",
   "execution_count": 17,
   "metadata": {
    "collapsed": false,
    "scrolled": true
   },
   "outputs": [
    {
     "name": "stdout",
     "output_type": "stream",
     "text": [
      "[[351   2   0 ...   0   0   0]\n",
      " [  0 394   0 ...   0   0   0]\n",
      " [  0   0 427 ...   0   0   0]\n",
      " ...\n",
      " [  0   0   0 ... 417   0   0]\n",
      " [  0   0   0 ...   0 437   0]\n",
      " [  0   0   0 ...   0   0 388]]\n"
     ]
    }
   ],
   "source": [
    "con_mat=get_confusion_matrix_one_hot(predict,y_test)\n",
    "print(con_mat)"
   ]
  },
  {
   "cell_type": "code",
   "execution_count": 18,
   "metadata": {
    "collapsed": true
   },
   "outputs": [],
   "source": [
    "def plot_confusion_matrix(cm,\n",
    "                          target_names,\n",
    "                          title='Confusion matrix',\n",
    "                          cmap=None,\n",
    "                          normalize=True):\n",
    "    accuracy = np.trace(cm) / float(np.sum(cm))\n",
    "    misclass = 1 - accuracy\n",
    "\n",
    "    if cmap is None:\n",
    "        cmap = plt.get_cmap('Blues')\n",
    "\n",
    "    plt.figure(figsize=(8, 6))\n",
    "    plt.imshow(cm, interpolation='nearest', cmap=cmap)\n",
    "    plt.title(title)\n",
    "    plt.colorbar()\n",
    "\n",
    "    if target_names is not None:\n",
    "        tick_marks = np.arange(len(target_names))\n",
    "        plt.xticks(tick_marks, target_names, rotation=45)\n",
    "        plt.yticks(tick_marks, target_names)\n",
    "\n",
    "    if normalize:\n",
    "        cm = cm.astype('float') / cm.sum(axis=1)[:, np.newaxis]\n",
    "\n",
    "\n",
    "    thresh = cm.max() / 1.5 if normalize else cm.max() / 2\n",
    "    for i, j in itertools.product(range(cm.shape[0]), range(cm.shape[1])):\n",
    "        if normalize:\n",
    "            plt.text(j, i, \"{:0.4f}\".format(cm[i, j]),\n",
    "                     horizontalalignment=\"center\",\n",
    "                     color=\"white\" if cm[i, j] > thresh else \"black\")\n",
    "        else:\n",
    "            plt.text(j, i, \"{:,}\".format(cm[i, j]),\n",
    "                     horizontalalignment=\"center\",\n",
    "                     color=\"white\" if cm[i, j] > thresh else \"black\")\n",
    "\n",
    "\n",
    "    plt.tight_layout()\n",
    "    plt.ylabel('True label')\n",
    "    plt.xlabel('Predicted label\\naccuracy={:0.4f}; misclass={:0.4f}'.format(accuracy, misclass))\n",
    "    plt.show()"
   ]
  },
  {
   "cell_type": "code",
   "execution_count": 19,
   "metadata": {
    "collapsed": false
   },
   "outputs": [],
   "source": [
    "names=['ch'+str(i+1) for i in range(44)]"
   ]
  },
  {
   "cell_type": "code",
   "execution_count": 20,
   "metadata": {
    "collapsed": true
   },
   "outputs": [],
   "source": [
    "plot_confusion_matrix(cm           = con_mat, \n",
    "                      normalize    = False,\n",
    "                      target_names = names,\n",
    "                      title        = \"Confusion Matrix\")"
   ]
  },
  {
   "cell_type": "code",
   "execution_count": null,
   "metadata": {
    "collapsed": true
   },
   "outputs": [],
   "source": [
    "#model2.save('/home/workstation/Desktop/jab/MHCR/modelMHCR_gray_2.8.96.97.h5')"
   ]
  },
  {
   "cell_type": "code",
   "execution_count": null,
   "metadata": {
    "collapsed": false
   },
   "outputs": [],
   "source": [
    "from IPython.display import SVG\n",
    "from keras.utils.vis_utils import model_to_dot\n",
    "from keras.utils.vis_utils import plot_model\n",
    "#SVG(model_to_dot(model2).create(prog='dot', format='svg'))\n",
    "plot_model(model2, to_file='/home/workstation/Desktop/jab/realtest/model_gray_2.8_96.97.png', show_shapes=True, show_layer_names=True)"
   ]
  },
  {
   "cell_type": "code",
   "execution_count": null,
   "metadata": {
    "collapsed": false
   },
   "outputs": [],
   "source": [
    "\n",
    "#del model2"
   ]
  },
  {
   "cell_type": "code",
   "execution_count": null,
   "metadata": {
    "collapsed": false
   },
   "outputs": [],
   "source": [
    "#np.save('/home/workstation/Desktop/jab/MHCR/X_norm.npy',X)"
   ]
  },
  {
   "cell_type": "code",
   "execution_count": 2,
   "metadata": {
    "collapsed": false
   },
   "outputs": [
    {
     "name": "stdout",
     "output_type": "stream",
     "text": [
      "cls_labels.npy        model99.ipynb                preprocessing.ipynb\r\n",
      "confusion.ipynb       \u001b[0m\u001b[01;35mmodel_gray_4_87.png\u001b[0m          preprocessing.py\r\n",
      "\u001b[01;34mDATASET\u001b[0m/              modelMHCR_1.h5               processimg.ipynb\r\n",
      "datasetfull.npy       model_MHCR_2.h5              prog1.py\r\n",
      "datasetgray.npy       modelMHCR_gray_1.h5          \u001b[01;34mrealtest\u001b[0m/\r\n",
      "dogcatkeras.ipynb     modelMHCR_gray_2.8.96.97.h5  realtest.ipynb\r\n",
      "first_model_keras.py  modelMHCR_gray_2_95.h5       realtest.py\r\n",
      "loadmodel.ipynb       modelMHCR_gray_3_99.h5       testfile2.npy\r\n",
      "loadmodel.py          modelMHCR_gray_4_87.h5       testfile.npy\r\n",
      "malchar.npy           orealtest.ipynb              Utilities.ipynb\r\n"
     ]
    }
   ],
   "source": [
    "%ls"
   ]
  },
  {
   "cell_type": "code",
   "execution_count": 11,
   "metadata": {
    "collapsed": false
   },
   "outputs": [
    {
     "name": "stdout",
     "output_type": "stream",
     "text": [
      "22\n",
      "34\n",
      "21\n",
      "2\n",
      "5\n",
      "32\n",
      "42\n",
      "19\n",
      "3\n",
      "16\n",
      "18\n",
      "38\n",
      "12\n",
      "27\n",
      "37\n",
      "28\n",
      "24\n",
      "44\n",
      "13\n",
      "40\n",
      "6\n",
      "1\n",
      "4\n",
      "23\n",
      "43\n",
      "26\n",
      "39\n",
      "30\n",
      "17\n",
      "7\n",
      "14\n",
      "15\n",
      "41\n",
      "31\n",
      "9\n",
      "25\n",
      "20\n",
      "29\n",
      "10\n",
      "33\n",
      "8\n",
      "11\n",
      "35\n",
      "36\n"
     ]
    }
   ],
   "source": [
    "import os\n",
    "for dir in os.listdir('DATASET'):\n",
    "    print(dir.split('R')[1])"
   ]
  },
  {
   "cell_type": "code",
   "execution_count": null,
   "metadata": {
    "collapsed": true
   },
   "outputs": [],
   "source": []
  }
 ],
 "metadata": {
  "kernelspec": {
   "display_name": "Python 3",
   "language": "python",
   "name": "python3"
  },
  "language_info": {
   "codemirror_mode": {
    "name": "ipython",
    "version": 3
   },
   "file_extension": ".py",
   "mimetype": "text/x-python",
   "name": "python",
   "nbconvert_exporter": "python",
   "pygments_lexer": "ipython3",
   "version": "3.5.5"
  }
 },
 "nbformat": 4,
 "nbformat_minor": 0
}
