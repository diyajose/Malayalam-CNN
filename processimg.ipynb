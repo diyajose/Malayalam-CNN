{
 "cells": [
  {
   "cell_type": "code",
   "execution_count": null,
   "metadata": {
    "collapsed": true
   },
   "outputs": [],
   "source": [
    "import cv2\n",
    "import numpy\n",
    "\n",
    "def mplot(img,img2=None):\n",
    "    \n",
    "    cv2.namedWindow('img',cv2.WINDOW_NORMAL)\n",
    "    cv2.moveWindow('img', 600,300)\n",
    "    cv2.imshow('img',img)\n",
    "    if img2 is not None:\n",
    "        cv2.namedWindow('img2',cv2.WINDOW_NORMAL)\n",
    "        cv2.moveWindow('img', 600,600)\n",
    "        cv2.imshow('img2',img2)\n",
    "    cv2.waitKey(0)\n",
    "    cv2.destroyAllWindows()\n",
    "    \n",
    "def rearrange(cnt):\n",
    "    b_rect=[]\n",
    "    for c in cnt:\n",
    "        rect=cv2.boundingRect(c)\n",
    "        if rect[2] <=20 or rect[3] <= 20:\n",
    "            continue\n",
    "        b_rect.append(rect)\n",
    "    if b_rect==[]:\n",
    "        return []\n",
    "    p=b_rect[0][1]+b_rect[0][3]\n",
    "    #print('length of brect:',len(b_rect))\n",
    "    s_rect=[]\n",
    "    i=0\n",
    "    length=len(b_rect)\n",
    "    while i<length:\n",
    "        p=b_rect[i][1]+b_rect[i][3]\n",
    "        elem_on_line=[]#elements on a line\n",
    "        outer=True\n",
    "        while i<length and p>b_rect[i][1]:\n",
    "            elem_on_line.append(b_rect[i])\n",
    "            i+=1\n",
    "            outer=False\n",
    "        if outer:\n",
    "            i+=1\n",
    "        elem_on_line=sorted(elem_on_line) #,key=lambda x:x[0]\n",
    "        #print(elem_on_line,i)\n",
    "        s_rect.extend(elem_on_line)\n",
    "    return s_rect\n",
    "    \n",
    "    def clear_noice(image,ellipse=(7,7),rect=(15,7)):\n",
    "    \n",
    "    threshold=128\n",
    "    kernel = cv2.getStructuringElement(cv2.MORPH_ELLIPSE, ellipse )\n",
    "    kernel2 = cv2.getStructuringElement(cv2.MORPH_RECT, rect )\n",
    "    cnt=[]\n",
    "    grad = cv2.morphologyEx(image, cv2.MORPH_GRADIENT, kernel)\n",
    "    _, bw = cv2.threshold(grad, threshold, 255.0, cv2.THRESH_BINARY | cv2.THRESH_OTSU)\n",
    "    connected = cv2.morphologyEx(bw, cv2.MORPH_CLOSE, kernel2)\n",
    "    _,contours, hierarchy = cv2.findContours(connected.copy(), cv2.RETR_EXTERNAL ,cv2.CHAIN_APPROX_SIMPLE )\n",
    "    #reversing contour list to start processig from top\n",
    "    contours.reverse()\n",
    "    cnt.extend(contours)\n",
    "    #print('contour length:',len(contours))\n",
    "    #mplot(grad,connected)\n",
    "    return cnt\n"
   ]
  },
  {
   "cell_type": "code",
   "execution_count": null,
   "metadata": {
    "collapsed": true
   },
   "outputs": [],
   "source": [
    "img=cv2.imread('/home/jabir/Project/MHCR/realtest/img14.jpg',0)\n",
    "#img=img[150:-200,30:-30]\n",
    "img2=img.copy()\n",
    "\n"
   ]
  }
 ],
 "metadata": {
  "kernelspec": {
   "display_name": "Python 3",
   "language": "python",
   "name": "python3"
  },
  "language_info": {
   "codemirror_mode": {
    "name": "ipython",
    "version": 3
   },
   "file_extension": ".py",
   "mimetype": "text/x-python",
   "name": "python",
   "nbconvert_exporter": "python",
   "pygments_lexer": "ipython3",
   "version": "3.5.5"
  }
 },
 "nbformat": 4,
 "nbformat_minor": 0
}
