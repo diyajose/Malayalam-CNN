{
 "cells": [
  {
   "cell_type": "code",
   "execution_count": 5,
   "metadata": {
    "collapsed": true
   },
   "outputs": [],
   "source": [
    "import cv2\n",
    "import matplotlib.pyplot as plt\n",
    "import numpy as np"
   ]
  },
  {
   "cell_type": "code",
   "execution_count": 13,
   "metadata": {
    "collapsed": false
   },
   "outputs": [],
   "source": [
    "def skeletize(img):\n",
    "    size = np.size(img)\n",
    "    skel = np.zeros(img.shape, np.uint8)\n",
    "    element = cv2.getStructuringElement(cv2.MORPH_CROSS, (3, 3))\n",
    "    done = False\n",
    "    i=0\n",
    "    while not done:\n",
    "        eroded = cv2.erode(img, element)\n",
    "        temp = cv2.dilate(eroded, element)\n",
    "        temp = cv2.subtract(img, temp)\n",
    "        skel = cv2.bitwise_or(skel, temp)\n",
    "        img = eroded.copy()\n",
    "        zeroes = size - cv2.countNonZero(img)\n",
    "        i+=1\n",
    "        if zeroes == size or i==5:\n",
    "            done = True\n",
    "\n",
    "    mplot(skel)\n",
    "img=cv2.imread('/home/jabir/Project/MHCR/realtest/img1.jpg',0)\n",
    "skeletize(img)    \n"
   ]
  },
  {
   "cell_type": "code",
   "execution_count": null,
   "metadata": {
    "collapsed": false
   },
   "outputs": [],
   "source": [
    "def clean(img):\n",
    "    \"\"\"Process an image\"\"\"\n",
    "    gray = cv2.cvtColor(img, cv2.COLOR_BGR2GRAY)\n",
    "    (__, img_bw) = cv2.threshold(gray, 128, 255, cv2.THRESH_BINARY_INV | cv2.THRESH_OTSU)\n",
    "\n",
    "    __, ctrs, __ = cv2.findContours(img_bw.copy(), cv2.RETR_EXTERNAL, cv2.CHAIN_APPROX_SIMPLE)\n",
    "\n",
    "    # take largest contour\n",
    "    ctr = sorted(ctrs, key=lambda ctr: (cv2.boundingRect(ctr)[2] * cv2.boundingRect(ctr)[3]),\n",
    "                 reverse=True)[0]\n",
    "    # Get bounding box\n",
    "    x, y, w, h = cv2.boundingRect(ctr)\n",
    "\n",
    "    # Getting ROI\n",
    "    roi = img_bw[y:y + h, x:x + w]\n",
    "    return skeletize(roi)"
   ]
  },
  {
   "cell_type": "code",
   "execution_count": 6,
   "metadata": {
    "collapsed": true
   },
   "outputs": [],
   "source": [
    "def mplot(img):\n",
    "    plt.gcf().clear()\n",
    "    plt.imshow(img, cmap = 'gray', interpolation = 'bicubic')\n",
    "    plt.xticks([]), plt.yticks([])  # to hide tick values on X and Y axis\n",
    "    plt.show()"
   ]
  },
  {
   "cell_type": "code",
   "execution_count": 119,
   "metadata": {
    "collapsed": false
   },
   "outputs": [],
   "source": [
    "img=cv2.imread('/home/jabir/Project/MHCR/realtest/img7.jpg',1)\n",
    "#cv2.imshow(\"img\",img)\n",
    "#cv2.waitKey(0)\n",
    "#v2.destroyAllWindows()\n",
    "mplot(img)\n"
   ]
  },
  {
   "cell_type": "code",
   "execution_count": 120,
   "metadata": {
    "collapsed": false
   },
   "outputs": [],
   "source": [
    "\n",
    "gray = cv2.cvtColor(img, cv2.COLOR_BGR2GRAY)\n",
    "(__, img_bw) = cv2.threshold(gray, 128, 255, cv2.THRESH_BINARY_INV | cv2.THRESH_OTSU)\n",
    "\n",
    "__, ctrs, __ = cv2.findContours(img_bw.copy(), cv2.RETR_EXTERNAL, cv2.CHAIN_APPROX_SIMPLE)\n",
    "mplot(img_bw)"
   ]
  },
  {
   "cell_type": "code",
   "execution_count": null,
   "metadata": {
    "collapsed": false
   },
   "outputs": [],
   "source": [
    "(__, img_bw) = cv2.threshold(gray, 128, 255, cv2.THRESH_BINARY_INV | cv2.THRESH_OTSU)\n",
    "_,contours, _ = cv2.findContours(img_bw, cv2.RETR_LIST, cv2.CHAIN_APPROX_SIMPLE)\n",
    "for c in contours:\n",
    "    rect = cv2.boundingRect(c)\n",
    "    if rect[2] < 20 or rect[3] < 20 :\n",
    "        continue\n",
    "    print(cv2.contourArea(c))\n",
    "    x,y,w,h = rect\n",
    "    cv2.rectangle(img,(x,y),(x+w,y+h),(0,0,0),4)\n",
    "    cv2.putText(img,str(cv2.contourArea(c)),(x+w+10,y+h),0,0.3,(0,0,0))\n",
    "mplot(img)\n",
    "\n",
    "#not detecting all contours"
   ]
  },
  {
   "cell_type": "code",
   "execution_count": null,
   "metadata": {
    "collapsed": true
   },
   "outputs": [],
   "source": [
    "mplot(img2)"
   ]
  },
  {
   "cell_type": "code",
   "execution_count": null,
   "metadata": {
    "collapsed": true
   },
   "outputs": [],
   "source": [
    "ret, thresh = cv2.threshold(gray, 10, 200, cv2.THRESH_OTSU)\n",
    "mplot(thresh)\n",
    "#otsu works fine for thresholdig\n",
    "#need to darken or fill the letters\n",
    "#thresh = cv2.bitwise_not(thresh)"
   ]
  },
  {
   "cell_type": "code",
   "execution_count": null,
   "metadata": {
    "collapsed": false
   },
   "outputs": [],
   "source": [
    "canny=cv2.Canny(thresh,100,200)\n",
    "\n",
    "image, contours, hierarchy = cv2.findContours(canny,cv2.RETR_TREE,cv2.CHAIN_APPROX_SIMPLE)\n",
    "img2 = cv2.drawContours(cv2.bitwise_not(canny), contours, -1, (0,255,0), 2)\n",
    "img2=cv2.GaussianBlur(img2,(5,5),0)\n",
    "mplot(img2)\n",
    "for c in contours:\n",
    "    rect = cv2.boundingRect(c)\n",
    "    if rect[2] < 20 or rect[3] < 20:\n",
    "        continue\n",
    "    print(cv2.contourArea(c),end=',')\n",
    "    x,y,w,h = rect\n",
    "    cv2.rectangle(img,(x,y),(x+w,y+h),(0,0,0),4)\n",
    "    cv2.putText(img,'Moth Detected',(x+w+10,y+h),0,0.3,(0,0,0))\n",
    "#mlot(img)\n",
    "#mplot(img2)"
   ]
  },
  {
   "cell_type": "code",
   "execution_count": null,
   "metadata": {
    "collapsed": true
   },
   "outputs": [],
   "source": [
    "mplot(img)"
   ]
  },
  {
   "cell_type": "code",
   "execution_count": null,
   "metadata": {
    "collapsed": false
   },
   "outputs": [],
   "source": [
    "#working fine ..continue with this\n",
    "ret, thresh = cv2.threshold(gray, 10, 255, cv2.THRESH_OTSU)\n",
    "mplot(thresh)"
   ]
  },
  {
   "cell_type": "code",
   "execution_count": null,
   "metadata": {
    "collapsed": false
   },
   "outputs": [],
   "source": [
    "(m,rec)= bound_contours(img)"
   ]
  },
  {
   "cell_type": "code",
   "execution_count": null,
   "metadata": {
    "collapsed": false
   },
   "outputs": [],
   "source": [
    "for rec in rect:\n",
    "    if rect[2] < 20 or rect[3] < 20:\n",
    "        continue\n",
    "    x,y,w,h = rect\n",
    "    cv2.rectangle(img,(x,y),(x+w,y+h),(0,0,0),4)\n",
    "    cv2.putText(img,'Moth Detected',(x+w+10,y+h),0,0.3,(0,0,0))\n",
    "mplot(img)"
   ]
  },
  {
   "cell_type": "markdown",
   "metadata": {
    "collapsed": true
   },
   "source": [
    "new method"
   ]
  },
  {
   "cell_type": "code",
   "execution_count": 107,
   "metadata": {
    "collapsed": false
   },
   "outputs": [],
   "source": [
    "import cv2\n",
    "import numpy as np\n",
    "img=cv2.imread('/home/jabir/Project/MHCR/realtest/img1.jpg',0)\n",
    "img2=img.copy()\n",
    "#mplot(img)"
   ]
  },
  {
   "cell_type": "code",
   "execution_count": null,
   "metadata": {
    "collapsed": false
   },
   "outputs": [],
   "source": [
    "gray = cv2.cvtColor(img, cv2.COLOR_BGR2GRAY)\n",
    "ret, thresh = cv2.threshold(gray, 128, 255, cv2.THRESH_OTSU)\n",
    "mplot(thresh)"
   ]
  },
  {
   "cell_type": "code",
   "execution_count": null,
   "metadata": {
    "collapsed": false
   },
   "outputs": [],
   "source": [
    "#canny=cv2.Canny(thresh,100,200)\n",
    "#mplot(canny)\n",
    "image, contours, hierarchy = cv2.findContours(thresh,cv2.RETR_TREE,cv2.CHAIN_APPROX_SIMPLE)\n",
    "#img2=cv2.GaussianBlur(img,(5,5),0)\n",
    "img2 = cv2.drawContours(img,contours, -1, (0,255,0), 2)\n",
    "mplot(img2)\n"
   ]
  },
  {
   "cell_type": "code",
   "execution_count": 109,
   "metadata": {
    "collapsed": false
   },
   "outputs": [],
   "source": [
    "ellipse=(10,10)\n",
    "rect=(2,2)\n",
    "threshold=128\n",
    "    #  _, small = cv2.threshold( small, threshold, 255.0, cv2.THRESH_BINARY | cv2.THRESH_OTSU)\n",
    "kernel = cv2.getStructuringElement(cv2.MORPH_ELLIPSE, ellipse )\n",
    "grad = cv2.morphologyEx( img, cv2.MORPH_GRADIENT, kernel)\n",
    "_, bw = cv2.threshold(grad, threshold, 255.0, cv2.THRESH_BINARY | cv2.THRESH_OTSU)\n",
    "kernel = cv2.getStructuringElement(cv2.MORPH_RECT, rect )\n",
    "connected = cv2.morphologyEx(bw, cv2.MORPH_CLOSE, kernel)\n",
    "#  imshow( connected ); import ipdb; ipdb.set_trace()\n",
    "_,contours, hierarchy = cv2.findContours(connected.copy(), cv2.RETR_EXTERNAL, cv2.CHAIN_APPROX_SIMPLE )\n"
   ]
  },
  {
   "cell_type": "code",
   "execution_count": 110,
   "metadata": {
    "collapsed": false,
    "scrolled": true
   },
   "outputs": [
    {
     "name": "stdout",
     "output_type": "stream",
     "text": [
      "2075.0\n",
      "658.5\n",
      "1339.0\n",
      "1132.5\n",
      "1132.5\n",
      "1170.0\n",
      "1432.5\n",
      "1914.5\n",
      "2366.5\n",
      "1286.5\n",
      "35170.5\n",
      "23741.0\n",
      "41628.0\n",
      "28265.5\n",
      "16412.5\n",
      "45391.0\n",
      "54657.0\n",
      "31083.5\n"
     ]
    }
   ],
   "source": [
    "#(__, img_bw) = cv2.threshold(gray, 128, 255, cv2.THRESH_BINARY_INV | cv2.THRESH_OTSU)\n",
    "#_,contours, _ = cv2.findContours(img_bw, cv2.RETR_LIST, cv2.CHAIN_APPROX_SIMPLE)\n",
    "i=0\n",
    "contours.reverse()\n",
    "for c in contours:\n",
    "    rect = cv2.boundingRect(c)\n",
    "    if rect[2] <20 or rect[3] < 20:\n",
    "        continue\n",
    "    print(cv2.contourArea(c))\n",
    "    #print(i)\n",
    "    x,y,w,h = rect\n",
    "    cv2.rectangle(img,(x,y),(x+w,y+h),(0,0,0),2)\n",
    "    cv2.putText(img,str(i),(x+w+10,y+h),0,0.3,(0,0,0))\n",
    "    i+=1\n",
    "mplot(img)"
   ]
  },
  {
   "cell_type": "code",
   "execution_count": null,
   "metadata": {
    "collapsed": true
   },
   "outputs": [],
   "source": [
    "mplot(img2)"
   ]
  },
  {
   "cell_type": "code",
   "execution_count": null,
   "metadata": {
    "collapsed": false
   },
   "outputs": [],
   "source": []
  },
  {
   "cell_type": "code",
   "execution_count": 70,
   "metadata": {
    "collapsed": true
   },
   "outputs": [],
   "source": [
    "mplot(connected)"
   ]
  },
  {
   "cell_type": "code",
   "execution_count": 85,
   "metadata": {
    "collapsed": false,
    "scrolled": false
   },
   "outputs": [
    {
     "name": "stdout",
     "output_type": "stream",
     "text": [
      "2806.5\n"
     ]
    }
   ],
   "source": [
    "    rect = cv2.boundingRect(contours[1])\n",
    "    print(cv2.contourArea(contours[1]))\n",
    "    x,y,w,h = rect\n",
    "    cv2.rectangle(img2,(x,y),(x+w,y+h),(0,0,0),2)\n",
    "    cv2.putText(img2,str(cv2.contourArea(c)),(x+w+10,y+h),0,0.3,(0,0,0))\n",
    "    mplot(img2)"
   ]
  },
  {
   "cell_type": "code",
   "execution_count": null,
   "metadata": {
    "collapsed": true
   },
   "outputs": [],
   "source": []
  }
 ],
 "metadata": {
  "kernelspec": {
   "display_name": "Python 3",
   "language": "python",
   "name": "python3"
  },
  "language_info": {
   "codemirror_mode": {
    "name": "ipython",
    "version": 3
   },
   "file_extension": ".py",
   "mimetype": "text/x-python",
   "name": "python",
   "nbconvert_exporter": "python",
   "pygments_lexer": "ipython3",
   "version": "3.5.5"
  }
 },
 "nbformat": 4,
 "nbformat_minor": 0
}
