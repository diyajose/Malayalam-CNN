{
 "cells": [
  {
   "cell_type": "code",
   "execution_count": 1,
   "metadata": {
    "collapsed": true
   },
   "outputs": [],
   "source": [
    "import cv2\n",
    "import matplotlib.pyplot as plt\n",
    "import numpy as np\n"
   ]
  },
  {
   "cell_type": "code",
   "execution_count": 2,
   "metadata": {
    "collapsed": true
   },
   "outputs": [],
   "source": [
    "def mplot(img,img2=None):\n",
    "    \n",
    "    cv2.namedWindow('img',cv2.WINDOW_NORMAL)\n",
    "    cv2.imshow('img',img)\n",
    "    if img2 is not None:\n",
    "        cv2.namedWindow('img2',cv2.WINDOW_NORMAL)\n",
    "        cv2.imshow('img2',img2)\n",
    "    cv2.waitKey(0)\n",
    "    cv2.destroyAllWindows()"
   ]
  },
  {
   "cell_type": "code",
   "execution_count": 3,
   "metadata": {
    "collapsed": true
   },
   "outputs": [],
   "source": [
    "'''\n",
    "function to rearrange the contour bounding boxes. in default the contour bounding boxes comes in the sorted order of\n",
    "their y co-ordinates . this function returns a list of rectangles [(x1,y1,w1,h1),(x2,y2,w2,h2)...] which are sorted in\n",
    "the order of x axis on each line. a line will have all recangles of y coordinates between y and y+h of first rectangle '''\n",
    "def rearrange(cnt):\n",
    "    b_rect=[]\n",
    "    for c in cnt:\n",
    "        rect=cv2.boundingRect(c)\n",
    "        if rect[2] <=20 or rect[3] <= 20:\n",
    "            continue\n",
    "        b_rect.append(rect)\n",
    "        \n",
    "    p=b_rect[0][1]+b_rect[0][3]\n",
    "    #print('length of brect:',len(b_rect))\n",
    "    s_rect=[]\n",
    "    i=0\n",
    "    length=len(b_rect)\n",
    "    while i<length:\n",
    "        p=b_rect[i][1]+b_rect[i][3]\n",
    "        elem_on_line=[]#elements on a line\n",
    "        outer=True\n",
    "        while i<length and p>b_rect[i][1]:\n",
    "            elem_on_line.append(b_rect[i])\n",
    "            i+=1\n",
    "            outer=False\n",
    "        if outer:\n",
    "            i+=1\n",
    "        elem_on_line=sorted(elem_on_line) #,key=lambda x:x[0]\n",
    "        #print(elem_on_line,i)\n",
    "        s_rect.extend(elem_on_line)\n",
    "    return s_rect\n",
    "        "
   ]
  },
  {
   "cell_type": "code",
   "execution_count": 4,
   "metadata": {
    "collapsed": false,
    "scrolled": true
   },
   "outputs": [
    {
     "name": "stdout",
     "output_type": "stream",
     "text": [
      "350\n"
     ]
    }
   ],
   "source": [
    "img=cv2.imread('/home/jab/main/realtest/img2.jpg',0)\n",
    "img2=img.copy()\n",
    "\n",
    "ellipse=(3,3)\n",
    "rect=(2,2)\n",
    "threshold=128\n",
    "#  _, small = cv2.threshold( small, threshold, 255.0, cv2.THRESH_BINARY | cv2.THRESH_OTSU)\n",
    "kernel = cv2.getStructuringElement(cv2.MORPH_ELLIPSE, ellipse )\n",
    "grad = cv2.morphologyEx( img, cv2.MORPH_GRADIENT, kernel)\n",
    "_, bw = cv2.threshold(grad, threshold, 255.0, cv2.THRESH_BINARY | cv2.THRESH_OTSU)\n",
    "kernel = cv2.getStructuringElement(cv2.MORPH_RECT, rect )\n",
    "connected = cv2.morphologyEx(bw, cv2.MORPH_CLOSE, kernel)\n",
    "#  imshow( connected ); import ipdb; ipdb.set_trace()\n",
    "_,contours, hierarchy = cv2.findContours(connected.copy(), cv2.RETR_EXTERNAL ,cv2.CHAIN_APPROX_SIMPLE )\n",
    "#reversing contour list to start processig from top\n",
    "contours.reverse()\n",
    "print(len(contours))"
   ]
  },
  {
   "cell_type": "code",
   "execution_count": 5,
   "metadata": {
    "collapsed": true
   },
   "outputs": [],
   "source": [
    "mplot(grad,connected)\n"
   ]
  },
  {
   "cell_type": "code",
   "execution_count": 8,
   "metadata": {
    "collapsed": true
   },
   "outputs": [],
   "source": [
    "'''clear_noice method clear noice from list of images and retrun cleared list of images\n",
    "'''\n",
    "def clear_noice(image,ellipse=(7,7),rect=(13,7)):\n",
    "    \n",
    "    threshold=128\n",
    "    kernel = cv2.getStructuringElement(cv2.MORPH_ELLIPSE, ellipse )\n",
    "    kernel2 = cv2.getStructuringElement(cv2.MORPH_RECT, rect )\n",
    "    cnt=[]\n",
    "    grad = cv2.morphologyEx( image, cv2.MORPH_GRADIENT, kernel)\n",
    "    _, bw = cv2.threshold(grad, threshold, 255.0, cv2.THRESH_BINARY | cv2.THRESH_OTSU)\n",
    "    connected = cv2.morphologyEx(bw, cv2.MORPH_CLOSE, kernel2)\n",
    "    _,contours, hierarchy = cv2.findContours(connected.copy(), cv2.RETR_EXTERNAL ,cv2.CHAIN_APPROX_SIMPLE )\n",
    "    contours.reverse()\n",
    "    cnt.extend(contours)\n",
    "    print('contour length:',len(contours))\n",
    "    #mplot(grad,connected)\n",
    "    return cnt"
   ]
  },
  {
   "cell_type": "code",
   "execution_count": 1,
   "metadata": {
    "collapsed": false
   },
   "outputs": [
    {
     "ename": "NameError",
     "evalue": "name 'cv2' is not defined",
     "output_type": "error",
     "traceback": [
      "\u001b[1;31m---------------------------------------------------------------------------\u001b[0m",
      "\u001b[1;31mNameError\u001b[0m                                 Traceback (most recent call last)",
      "\u001b[1;32m<ipython-input-1-f86dea545828>\u001b[0m in \u001b[0;36m<module>\u001b[1;34m()\u001b[0m\n\u001b[1;32m----> 1\u001b[1;33m \u001b[0mimg\u001b[0m\u001b[1;33m=\u001b[0m\u001b[0mcv2\u001b[0m\u001b[1;33m.\u001b[0m\u001b[0mimread\u001b[0m\u001b[1;33m(\u001b[0m\u001b[1;34m'/home/jab/main/realtest/img12.jpg'\u001b[0m\u001b[1;33m,\u001b[0m\u001b[1;36m0\u001b[0m\u001b[1;33m)\u001b[0m\u001b[1;33m\u001b[0m\u001b[0m\n\u001b[0m\u001b[0;32m      2\u001b[0m \u001b[0mimg2\u001b[0m\u001b[1;33m=\u001b[0m\u001b[0mimg\u001b[0m\u001b[1;33m.\u001b[0m\u001b[0mcopy\u001b[0m\u001b[1;33m(\u001b[0m\u001b[1;33m)\u001b[0m\u001b[1;33m\u001b[0m\u001b[0m\n\u001b[0;32m      3\u001b[0m \u001b[0mcontours\u001b[0m\u001b[1;33m=\u001b[0m\u001b[0mclear_noice\u001b[0m\u001b[1;33m(\u001b[0m\u001b[0mimg\u001b[0m\u001b[1;33m)\u001b[0m \u001b[1;31m# it expects a list of images so passing single image as list\u001b[0m\u001b[1;33m\u001b[0m\u001b[0m\n\u001b[0;32m      4\u001b[0m \u001b[0mprint\u001b[0m\u001b[1;33m(\u001b[0m\u001b[0mlen\u001b[0m\u001b[1;33m(\u001b[0m\u001b[0mcontours\u001b[0m\u001b[1;33m)\u001b[0m\u001b[1;33m)\u001b[0m\u001b[1;33m\u001b[0m\u001b[0m\n",
      "\u001b[1;31mNameError\u001b[0m: name 'cv2' is not defined"
     ]
    }
   ],
   "source": [
    "img=cv2.imread('/home/jab/main/realtest/img12.jpg',0)\n",
    "img2=img.copy()\n",
    "contours=clear_noice(img) # it expects a list of images so passing single image as list \n",
    "print(len(contours))"
   ]
  },
  {
   "cell_type": "code",
   "execution_count": 10,
   "metadata": {
    "collapsed": false,
    "scrolled": true
   },
   "outputs": [
    {
     "name": "stdout",
     "output_type": "stream",
     "text": [
      "length of rect 11\n"
     ]
    }
   ],
   "source": [
    "s_rect=rearrange(contours)\n",
    "words=[]\n",
    "i=0\n",
    "print(\"length of rect\",len(s_rect))\n",
    "for rect in s_rect:\n",
    "    x,y,w,h = rect\n",
    "    cv2.rectangle(img2,(x,y),(x+w,y+h),(0,0,0),2)\n",
    "    cv2.putText(img2,str(i),(x+w+10,y+h),0,0.3,(0,0,0))\n",
    "    words.append(img[y-2:y+h+2,x-2:x+w+2])\n",
    "    i+=1\n",
    "mplot(img2)"
   ]
  },
  {
   "cell_type": "markdown",
   "metadata": {},
   "source": [
    "<h4> Drawing bounding boxes on each words</h4><br/>\n",
    "<p> Here, word consists of list of words cropped.we are rearranging each word and drawing bounding rectangle to each characters  </p>"
   ]
  },
  {
   "cell_type": "code",
   "execution_count": null,
   "metadata": {
    "collapsed": true
   },
   "outputs": [],
   "source": [
    "for i in range(len(words)):\n",
    "    c=clear_noice(words[i],ellipse=(3,3),rect=(2,2))\n",
    "    s_rect=rearrange(c)\n",
    "    for rect in s_rect:\n",
    "        x,y,w,h = rect\n",
    "        cv2.rectangle(words[i],(x,y),(x+w,y+h),(0,0,0),2)\n",
    "        cv2.putText(words[i],str(i),(x+w+10,y+h),0,0.3,(0,0,0))\n",
    "    mplot(words[i])\n",
    "    "
   ]
  },
  {
   "cell_type": "code",
   "execution_count": null,
   "metadata": {
    "collapsed": true
   },
   "outputs": [],
   "source": [
    "r=s_rect[1]\n",
    "x,y,w,h=r\n",
    "roi=img[y:y+h,x:x+w]\n",
    "#roi=cv2.resize(roi,(86,86))\n",
    "mplot(roi)"
   ]
  },
  {
   "cell_type": "code",
   "execution_count": null,
   "metadata": {
    "collapsed": true
   },
   "outputs": [],
   "source": [
    "ret,thresh3 = cv2.threshold(roi,127,255,cv2.THRESH_TRUNC)\n",
    "ret,thresh4 = cv2.threshold(roi,127,255,cv2.THRESH_TOZERO)\n",
    "ret,thresh5 = cv2.threshold(roi,127,255,cv2.THRESH_TOZERO_INV)\n",
    "mplot(thresh3,thresh4)\n"
   ]
  },
  {
   "cell_type": "code",
   "execution_count": null,
   "metadata": {
    "collapsed": true
   },
   "outputs": [],
   "source": [
    "#applying morphological operation on each word in order to seperate characters\n",
    "ellipse=(3,3)\n",
    "rect=(2,2)\n",
    "threshold=128\n",
    "#  _, small = cv2.threshold( small, threshold, 255.0, cv2.THRESH_BINARY | cv2.THRESH_OTSU)\n",
    "ker = cv2.getStructuringElement(cv2.MORPH_ELLIPSE, ellipse )\n",
    "grad = cv2.morphologyEx( roi, cv2.MORPH_GRADIENT, ker)\n",
    "_, bw = cv2.threshold(grad, threshold, 255.0, cv2.THRESH_BINARY | cv2.THRESH_OTSU)\n",
    "ker = cv2.getStructuringElement(cv2.MORPH_RECT, rect )\n",
    "connected = cv2.morphologyEx(bw, cv2.MORPH_CLOSE, ker)\n",
    "#  imshow( connected ); import ipdb; ipdb.set_trace()\n",
    "_,cnt, hierarchy = cv2.findContours(connected.copy(), cv2.RETR_EXTERNAL ,cv2.CHAIN_APPROX_SIMPLE )\n",
    "#reversing contour list to start processig from top\n",
    "cnt.reverse()\n",
    "#cn = cv2.erode(connected, cv2.getStructuringElement(cv2.MORPH_ELLIPSE,(2,2) ), iterations=2)"
   ]
  },
  {
   "cell_type": "code",
   "execution_count": null,
   "metadata": {
    "collapsed": true
   },
   "outputs": [],
   "source": [
    "mplot(bw,connected)"
   ]
  },
  {
   "cell_type": "code",
   "execution_count": null,
   "metadata": {
    "collapsed": true
   },
   "outputs": [],
   "source": [
    "s_rect=rearrange(contours)\n",
    "i=0\n",
    "print(\"length of rect\",len(s_rect))\n",
    "for rect in s_rect:\n",
    "    x,y,w,h = rect\n",
    "    cv2.rectangle(roi,(x,y),(x+w,y+h),(0,0,0),2)\n",
    "    cv2.putText(roi,str(i),(x+w+10,y+h),0,0.3,(0,0,0))\n",
    "    i+=1\n",
    "mplot(roi)"
   ]
  },
  {
   "cell_type": "code",
   "execution_count": null,
   "metadata": {
    "collapsed": true
   },
   "outputs": [],
   "source": [
    "_, bw = cv2.threshold(roi, threshold, 255.0, cv2.THRESH_BINARY | cv2.THRESH_OTSU)\n",
    "mplot(bw)"
   ]
  },
  {
   "cell_type": "code",
   "execution_count": null,
   "metadata": {
    "collapsed": true
   },
   "outputs": [],
   "source": [
    "a=np.array([[1,2],[2,3],[3,4],[5,2]])"
   ]
  },
  {
   "cell_type": "code",
   "execution_count": null,
   "metadata": {
    "collapsed": true
   },
   "outputs": [],
   "source": [
    "roi=thresh4\n",
    "nroi=np.array([[255 if j>190 else j for j in roi[i]] for i in range(len(roi))],dtype=np.uint8)"
   ]
  },
  {
   "cell_type": "code",
   "execution_count": null,
   "metadata": {
    "collapsed": true
   },
   "outputs": [],
   "source": [
    "for i in words:\n",
    "    mplot(i)"
   ]
  },
  {
   "cell_type": "code",
   "execution_count": null,
   "metadata": {
    "collapsed": true
   },
   "outputs": [],
   "source": [
    "len(words)"
   ]
  },
  {
   "cell_type": "code",
   "execution_count": null,
   "metadata": {
    "collapsed": true
   },
   "outputs": [],
   "source": []
  }
 ],
 "metadata": {
  "kernelspec": {
   "display_name": "Python 3",
   "language": "python",
   "name": "python3"
  },
  "language_info": {
   "codemirror_mode": {
    "name": "ipython",
    "version": 3
   },
   "file_extension": ".py",
   "mimetype": "text/x-python",
   "name": "python",
   "nbconvert_exporter": "python",
   "pygments_lexer": "ipython3",
   "version": "3.5.5"
  }
 },
 "nbformat": 4,
 "nbformat_minor": 1
}
