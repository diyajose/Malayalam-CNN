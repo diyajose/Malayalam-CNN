{
 "cells": [
  {
   "cell_type": "code",
   "execution_count": 1,
   "metadata": {
    "collapsed": false
   },
   "outputs": [],
   "source": [
    "import numpy as np\n",
    "import os\n",
    "import random\n",
    "#import tqdm\n",
    "import cv2"
   ]
  },
  {
   "cell_type": "code",
   "execution_count": 1,
   "metadata": {
    "collapsed": true
   },
   "outputs": [],
   "source": [
    "DATA_DIR='/drive/Main Project/DATASET'\n",
    "DIR=''\n",
    "IMG_SIZE=86\n",
    "LR=1e-3\n",
    "MODEL_NAME='MHCR.{}-{}-model'.format(LR,'2dconv')\n"
   ]
  },
  {
   "cell_type": "code",
   "execution_count": 3,
   "metadata": {
    "collapsed": true
   },
   "outputs": [],
   "source": [
    "def create_all_data():\n",
    "    dataset=[]\n",
    "    op_class_num=0\n",
    "    k=0\n",
    "    for subdir in os.listdir(DATA_DIR):\n",
    "        label=[0 for i in range(44)]\n",
    "        #print(subdir)\n",
    "        index=int(subdir.split('R')[1])\n",
    "        label[index-1]=1\n",
    "        #print('label of ',subdir, label)\n",
    "        #if k<4:\n",
    "        dir_path=os.path.join(DATA_DIR,subdir)\n",
    "        for img in os.listdir(dir_path):\n",
    "                #print(img)\n",
    "                img_path=os.path.join(dir_path,img)\n",
    "                image=cv2.imread(img_path,0)\n",
    "                dataset.append([np.array(image),np.array(label)])\n",
    "        k+=1\n",
    "        random.shuffle(dataset)\n",
    "        np.save('drive/Main Project/DATASET/datasetgray.npy',dataset)\n",
    "\n",
    "    #print(dataset)\n",
    "        "
   ]
  },
  {
   "cell_type": "code",
   "execution_count": 4,
   "metadata": {
    "collapsed": false
   },
   "outputs": [],
   "source": [
    "create_all_data()"
   ]
  },
  {
   "cell_type": "code",
   "execution_count": null,
   "metadata": {
    "collapsed": true
   },
   "outputs": [],
   "source": []
  }
 ],
 "metadata": {
  "kernelspec": {
   "display_name": "Python 3",
   "language": "python",
   "name": "python3"
  },
  "language_info": {
   "codemirror_mode": {
    "name": "ipython",
    "version": 3
   },
   "file_extension": ".py",
   "mimetype": "text/x-python",
   "name": "python",
   "nbconvert_exporter": "python",
   "pygments_lexer": "ipython3",
   "version": "3.5.5"
  }
 },
 "nbformat": 4,
 "nbformat_minor": 0
}
