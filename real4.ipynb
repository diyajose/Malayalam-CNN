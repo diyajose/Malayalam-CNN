{
 "cells": [
  {
   "cell_type": "code",
   "execution_count": 1,
   "metadata": {
    "collapsed": true
   },
   "outputs": [],
   "source": [
    "import cv2\n",
    "import matplotlib.pyplot as plt\n",
    "import numpy as np\n",
    "\n",
    "\n",
    "def mplot(img,img2=None):\n",
    "    \n",
    "    cv2.namedWindow('img',cv2.WINDOW_NORMAL)\n",
    "    cv2.imshow('img',img)\n",
    "    if img2 is not None:\n",
    "        cv2.namedWindow('img2',cv2.WINDOW_NORMAL)\n",
    "        cv2.imshow('img2',img2)\n",
    "    cv2.waitKey(0)\n",
    "    cv2.destroyAllWindows()"
   ]
  },
  {
   "cell_type": "code",
   "execution_count": null,
   "metadata": {
    "collapsed": true
   },
   "outputs": [],
   "source": []
  },
  {
   "cell_type": "code",
   "execution_count": 100,
   "metadata": {
    "collapsed": true
   },
   "outputs": [],
   "source": [
    "'''\n",
    "function to rearrange the contour bounding boxes. in default the contour bounding boxes comes in the sorted order of\n",
    "their y co-ordinates . this function returns a list of rectangles [(x1,y1,w1,h1),(x2,y2,w2,h2)...] which are sorted in\n",
    "the order of x axis on each line. a line will have all recangles of y coordinates between y and y+h of first rectangle '''\n",
    "def rearrange(cnt):\n",
    "    b_rect=[]\n",
    "    for c in cnt:\n",
    "        rect=cv2.boundingRect(c)\n",
    "        if rect[2] <=20 or rect[3] <= 20:\n",
    "            continue\n",
    "        b_rect.append(rect)\n",
    "    if b_rect==[]:\n",
    "        return []\n",
    "    p=b_rect[0][1]+b_rect[0][3]\n",
    "    #print('length of brect:',len(b_rect))\n",
    "    s_rect=[]\n",
    "    i=0\n",
    "    length=len(b_rect)\n",
    "    while i<length:\n",
    "        p=b_rect[i][1]+b_rect[i][3]\n",
    "        elem_on_line=[]#elements on a line\n",
    "        outer=True\n",
    "        while i<length and p>b_rect[i][1]:\n",
    "            elem_on_line.append(b_rect[i])\n",
    "            i+=1\n",
    "            outer=False\n",
    "        if outer:\n",
    "            i+=1\n",
    "        elem_on_line=sorted(elem_on_line) #,key=lambda x:x[0]\n",
    "        #print(elem_on_line,i)\n",
    "        s_rect.extend(elem_on_line)\n",
    "    return s_rect\n",
    "        "
   ]
  },
  {
   "cell_type": "code",
   "execution_count": 3,
   "metadata": {
    "collapsed": true
   },
   "outputs": [],
   "source": [
    "'''\n",
    "clear_noice method clear noice from list of images and retrun cleared list of images\n",
    "'''\n",
    "def clear_noice(image,ellipse=(7,7),rect=(13,7)):\n",
    "    \n",
    "    threshold=128\n",
    "    kernel = cv2.getStructuringElement(cv2.MORPH_ELLIPSE, ellipse )\n",
    "    kernel2 = cv2.getStructuringElement(cv2.MORPH_RECT, rect )\n",
    "    cnt=[]\n",
    "    grad = cv2.morphologyEx(image, cv2.MORPH_GRADIENT, kernel)\n",
    "    _, bw = cv2.threshold(grad, threshold, 255.0, cv2.THRESH_BINARY | cv2.THRESH_OTSU)\n",
    "    connected = cv2.morphologyEx(bw, cv2.MORPH_CLOSE, kernel2)\n",
    "    _,contours, hierarchy = cv2.findContours(connected.copy(), cv2.RETR_EXTERNAL ,cv2.CHAIN_APPROX_SIMPLE )\n",
    "    #reversing contour list to start processig from top\n",
    "    contours.reverse()\n",
    "    cnt.extend(contours)\n",
    "    #print('contour length:',len(contours))\n",
    "    #mplot(grad,connected)\n",
    "    return cnt"
   ]
  },
  {
   "cell_type": "code",
   "execution_count": 102,
   "metadata": {
    "collapsed": false,
    "scrolled": true
   },
   "outputs": [],
   "source": [
    "img=cv2.imread('/home/jabir/Project/MHCR/realtest/img5.jpg',0)\n",
    "img2=img.copy()\n",
    "contours=clear_noice(img) # it expects a list of images so passing single image as list \n",
    "#print(len(contours))"
   ]
  },
  {
   "cell_type": "code",
   "execution_count": 103,
   "metadata": {
    "collapsed": false,
    "scrolled": false
   },
   "outputs": [],
   "source": [
    "#cutting the image into list of words\n",
    "s_rect=rearrange(contours)\n",
    "words=[]\n",
    "i=0\n",
    "#print(\"length of rect\",len(s_rect))\n",
    "for rect in s_rect:\n",
    "    x,y,w,h = rect\n",
    "    cv2.rectangle(img2,(x,y),(x+w,y+h),(0,0,0),2)\n",
    "    cv2.putText(img2,str(i),(x+w+10,y+h),0,0.3,(0,0,0))\n",
    "    word=(img[y:y+h,x:x+w])\n",
    "    ret,thresh4 = cv2.threshold(word,127,255,cv2.THRESH_TOZERO)\n",
    "    word=np.array([[min(j+55,255) if j>130 else j for j in thresh4[k]] for k in range(len(thresh4))],dtype=np.uint8)\n",
    "    words.append(word)\n",
    "    i+=1\n",
    "mplot(img2)"
   ]
  },
  {
   "cell_type": "markdown",
   "metadata": {},
   "source": [
    "<h4> Drawing bounding boxes on each words</h4><br/>\n",
    "<p> Here, word consists of list of words cropped.we are rearranging each word and drawing bounding rectangle to each characters  </p>"
   ]
  },
  {
   "cell_type": "code",
   "execution_count": 106,
   "metadata": {
    "collapsed": false
   },
   "outputs": [],
   "source": [
    "seperated=[]\n",
    "for i in range(len(words)):\n",
    "    \n",
    "    c=clear_noice(words[i],ellipse=(3,3),rect=(2,2))\n",
    "    s_rect=rearrange(c)\n",
    "    #print(\"rect:\",s_rect)\n",
    "    chars=[]\n",
    "    if s_rect==[]:\n",
    "        continue\n",
    "    for rect in s_rect:\n",
    "        x,y,w,h = rect\n",
    "        char=words[i][y:y+h,x:x+w]\n",
    "        char= cv2.copyMakeBorder(char,20,20,10,10,cv2.BORDER_CONSTANT,value=[255,255,255])\n",
    "        char=cv2.resize(char,(86,86))\n",
    "        chars.append(char)\n",
    "    #print(chars)\n",
    "        #cv2.rectangle(words[i],(x,y),(x+w,y+h),(0,0,0),2)\n",
    "        #cv2.putText(words[i],str(i),(x+w+10,y+h),0,0.3,(0,0,0))\n",
    "           \n",
    "    #mplot(words[i])\n",
    "    seperated.append(chars)\n",
    "    "
   ]
  },
  {
   "cell_type": "code",
   "execution_count": 107,
   "metadata": {
    "collapsed": false
   },
   "outputs": [],
   "source": [
    "for i,word in enumerate(seperated):\n",
    "    for j,char in enumerate(word):\n",
    "        '''ret,thresh3 = cv2.threshold(char,127,255,cv2.THRESH_TRUNC)\n",
    "        ret,thresh4 = cv2.threshold(char,127,255,cv2.THRESH_TOZERO)\n",
    "        ret,thresh5 = cv2.threshold(char,127,255,cv2.THRESH_TOZERO_INV)\n",
    "        mplot(thresh4)'''\n",
    "        mplot(char)"
   ]
  },
  {
   "cell_type": "code",
   "execution_count": 148,
   "metadata": {
    "collapsed": false
   },
   "outputs": [
    {
     "ename": "SyntaxError",
     "evalue": "invalid syntax (<ipython-input-148-202fcb670497>, line 2)",
     "output_type": "error",
     "traceback": [
      "\u001b[1;36m  File \u001b[1;32m\"<ipython-input-148-202fcb670497>\"\u001b[1;36m, line \u001b[1;32m2\u001b[0m\n\u001b[1;33m    nroi=np.array([[min(j+10,255)] if j>200 else j for j in roi[i]] for i in range(len(roi))],dtype=np.uint8)\u001b[0m\n\u001b[1;37m                                                                                            ^\u001b[0m\n\u001b[1;31mSyntaxError\u001b[0m\u001b[1;31m:\u001b[0m invalid syntax\n"
     ]
    }
   ],
   "source": [
    "roi=thresh4\n",
    "nroi=np.array([[min(j+10,255)] if j>200 else j for j in roi[i]] for i in range(len(roi))],dtype=np.uint8)"
   ]
  },
  {
   "cell_type": "code",
   "execution_count": 20,
   "metadata": {
    "collapsed": false
   },
   "outputs": [
    {
     "name": "stderr",
     "output_type": "stream",
     "text": [
      "Using TensorFlow backend.\n"
     ]
    }
   ],
   "source": [
    "import numpy as np\n",
    "from numpy import random\n",
    "import keras\n",
    "from keras import backend as k\n",
    "from keras.models import Sequential\n",
    "from keras.layers import Activation\n",
    "from keras.layers.core import Dense, Flatten\n",
    "from keras.optimizers import Adam\n",
    "from keras.metrics import categorical_crossentropy\n",
    "from keras.preprocessing.image import ImageDataGenerator\n",
    "from keras.layers.normalization import BatchNormalization\n",
    "from keras.layers.convolutional import *\n",
    "from matplotlib import pyplot as plt\n",
    "from sklearn.metrics import confusion_matrix\n",
    "import itertools\n",
    "import matplotlib.pyplot as plt\n",
    "from sklearn.model_selection import train_test_split\n",
    "from keras.models import load_model"
   ]
  },
  {
   "cell_type": "code",
   "execution_count": 31,
   "metadata": {
    "collapsed": true
   },
   "outputs": [],
   "source": [
    "model2=load_model('/home/jabir/Project/MHCR/modelMHCR_gray_2.8.96.97.h5')"
   ]
  },
  {
   "cell_type": "code",
   "execution_count": 97,
   "metadata": {
    "collapsed": false
   },
   "outputs": [
    {
     "data": {
      "text/plain": [
       "(44, 720)"
      ]
     },
     "execution_count": 97,
     "metadata": {},
     "output_type": "execute_result"
    }
   ],
   "source": [
    "np.array(words)\n",
    "words[0].shape"
   ]
  },
  {
   "cell_type": "code",
   "execution_count": 44,
   "metadata": {
    "collapsed": false
   },
   "outputs": [
    {
     "name": "stdout",
     "output_type": "stream",
     "text": [
      "nextword\n",
      "16\n",
      "nextword\n",
      "16\n",
      "nextword\n",
      "16\n",
      "nextword\n",
      "16\n",
      "nextword\n",
      "16\n",
      "nextword\n",
      "2\n",
      "9\n",
      "nextword\n",
      "9\n",
      "nextword\n",
      "16\n",
      "9\n",
      "nextword\n",
      "21\n"
     ]
    }
   ],
   "source": [
    "#pred=model2.predict_class\n",
    "for i,word in enumerate(seperated):\n",
    "    if word ==[]:\n",
    "        continue\n",
    "    word=np.array(word)\n",
    "    #print(word.shape)\n",
    "    pred=model2.predict_classes(word.reshape(-1,86,86,1))\n",
    "    print('nextword')\n",
    "    for j in pred:\n",
    "        print(j+1)\n",
    "    #for j,char in enumerate(word):\n",
    "       # print(char.shape)\n",
    "        \n",
    "        #mplot(char)"
   ]
  },
  {
   "cell_type": "code",
   "execution_count": 13,
   "metadata": {
    "collapsed": false
   },
   "outputs": [
    {
     "name": "stdout",
     "output_type": "stream",
     "text": [
      "[39 26]\n"
     ]
    }
   ],
   "source": [
    "s=seperated[0][0]\n",
    "char= cv2.copyMakeBorder(char,20,20,10,10,cv2.BORDER_CONSTANT,value=[255,255,255])\n",
    "#s.shape\n",
    "pred=model2.predict_classes(s.reshape(-1,86,86,1))\n",
    "print(pred)"
   ]
  },
  {
   "cell_type": "code",
   "execution_count": 41,
   "metadata": {
    "collapsed": false
   },
   "outputs": [],
   "source": [
    "mplot(seperated[1][0])"
   ]
  },
  {
   "cell_type": "code",
   "execution_count": 49,
   "metadata": {
    "collapsed": true
   },
   "outputs": [
    {
     "data": {
      "text/plain": [
       "[[], [array([[255, 255, 255, ..., 255, 255, 255],\n",
       "         [255, 255, 255, ..., 255, 255, 255],\n",
       "         [255, 255, 255, ..., 255, 255, 255],\n",
       "         ...,\n",
       "         [255, 255, 255, ..., 255, 255, 255],\n",
       "         [255, 255, 255, ..., 255, 255, 255],\n",
       "         [255, 255, 255, ..., 255, 255, 255]], dtype=uint8)], [array([[255, 255, 255, ..., 255, 255, 255],\n",
       "         [255, 255, 255, ..., 255, 255, 255],\n",
       "         [255, 255, 255, ..., 255, 255, 255],\n",
       "         ...,\n",
       "         [255, 255, 255, ..., 255, 255, 255],\n",
       "         [255, 255, 255, ..., 255, 255, 255],\n",
       "         [255, 255, 255, ..., 255, 255, 255]], dtype=uint8)], [array([[255, 255, 255, ..., 255, 255, 255],\n",
       "         [255, 255, 255, ..., 255, 255, 255],\n",
       "         [255, 255, 255, ..., 255, 255, 255],\n",
       "         ...,\n",
       "         [255, 255, 255, ..., 255, 255, 255],\n",
       "         [255, 255, 255, ..., 255, 255, 255],\n",
       "         [255, 255, 255, ..., 255, 255, 255]], dtype=uint8)], [array([[255, 255, 255, ..., 255, 255, 255],\n",
       "         [255, 255, 255, ..., 255, 255, 255],\n",
       "         [255, 255, 255, ..., 255, 255, 255],\n",
       "         ...,\n",
       "         [255, 255, 255, ..., 255, 255, 255],\n",
       "         [255, 255, 255, ..., 255, 255, 255],\n",
       "         [255, 255, 255, ..., 255, 255, 255]], dtype=uint8)], [array([[255, 255, 255, ..., 255, 255, 255],\n",
       "         [255, 255, 255, ..., 255, 255, 255],\n",
       "         [255, 255, 255, ..., 255, 255, 255],\n",
       "         ...,\n",
       "         [255, 255, 255, ..., 255, 255, 255],\n",
       "         [255, 255, 255, ..., 255, 255, 255],\n",
       "         [255, 255, 255, ..., 255, 255, 255]], dtype=uint8)], [array([[255, 255, 255, ..., 255, 255, 255],\n",
       "         [255, 255, 255, ..., 255, 255, 255],\n",
       "         [255, 255, 255, ..., 255, 255, 255],\n",
       "         ...,\n",
       "         [255, 255, 255, ..., 255, 255, 255],\n",
       "         [255, 255, 255, ..., 255, 255, 255],\n",
       "         [255, 255, 255, ..., 255, 255, 255]], dtype=uint8),\n",
       "  array([[255, 255, 255, ..., 255, 255, 255],\n",
       "         [255, 255, 255, ..., 255, 255, 255],\n",
       "         [255, 255, 255, ..., 255, 255, 255],\n",
       "         ...,\n",
       "         [255, 255, 255, ..., 255, 255, 255],\n",
       "         [255, 255, 255, ..., 255, 255, 255],\n",
       "         [255, 255, 255, ..., 255, 255, 255]], dtype=uint8)], [array([[255, 255, 255, ..., 255, 255, 255],\n",
       "         [255, 255, 255, ..., 255, 255, 255],\n",
       "         [255, 255, 255, ..., 255, 255, 255],\n",
       "         ...,\n",
       "         [255, 255, 255, ..., 255, 255, 255],\n",
       "         [255, 255, 255, ..., 255, 255, 255],\n",
       "         [255, 255, 255, ..., 255, 255, 255]], dtype=uint8)], [array([[255, 255, 255, ..., 255, 255, 255],\n",
       "         [255, 255, 255, ..., 255, 255, 255],\n",
       "         [255, 255, 255, ..., 255, 255, 255],\n",
       "         ...,\n",
       "         [255, 255, 255, ..., 255, 255, 255],\n",
       "         [255, 255, 255, ..., 255, 255, 255],\n",
       "         [255, 255, 255, ..., 255, 255, 255]], dtype=uint8),\n",
       "  array([[255, 255, 255, ..., 255, 255, 255],\n",
       "         [255, 255, 255, ..., 255, 255, 255],\n",
       "         [255, 255, 255, ..., 255, 255, 255],\n",
       "         ...,\n",
       "         [255, 255, 255, ..., 255, 255, 255],\n",
       "         [255, 255, 255, ..., 255, 255, 255],\n",
       "         [255, 255, 255, ..., 255, 255, 255]], dtype=uint8)], [array([[255, 255, 255, ..., 255, 255, 255],\n",
       "         [255, 255, 255, ..., 255, 255, 255],\n",
       "         [255, 255, 255, ..., 255, 255, 255],\n",
       "         ...,\n",
       "         [255, 255, 255, ..., 255, 255, 255],\n",
       "         [255, 255, 255, ..., 255, 255, 255],\n",
       "         [255, 255, 255, ..., 255, 255, 255]], dtype=uint8)]]"
      ]
     },
     "execution_count": 49,
     "metadata": {},
     "output_type": "execute_result"
    }
   ],
   "source": [
    "seperated"
   ]
  },
  {
   "cell_type": "code",
   "execution_count": 88,
   "metadata": {
    "collapsed": true
   },
   "outputs": [],
   "source": [
    "for i in words:\n",
    "    mplot(i)"
   ]
  },
  {
   "cell_type": "code",
   "execution_count": 83,
   "metadata": {
    "collapsed": false
   },
   "outputs": [
    {
     "data": {
      "text/plain": [
       "(44, 720)"
      ]
     },
     "execution_count": 83,
     "metadata": {},
     "output_type": "execute_result"
    }
   ],
   "source": [
    "words[0].shape\n"
   ]
  },
  {
   "cell_type": "code",
   "execution_count": null,
   "metadata": {
    "collapsed": true
   },
   "outputs": [],
   "source": []
  }
 ],
 "metadata": {
  "kernelspec": {
   "display_name": "Python 3",
   "language": "python",
   "name": "python3"
  },
  "language_info": {
   "codemirror_mode": {
    "name": "ipython",
    "version": 3
   },
   "file_extension": ".py",
   "mimetype": "text/x-python",
   "name": "python",
   "nbconvert_exporter": "python",
   "pygments_lexer": "ipython3",
   "version": "3.5.5"
  }
 },
 "nbformat": 4,
 "nbformat_minor": 1
}
