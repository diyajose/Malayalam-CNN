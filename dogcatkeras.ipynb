{
 "cells": [
  {
   "cell_type": "code",
   "execution_count": 1,
   "metadata": {
    "collapsed": false
   },
   "outputs": [
    {
     "name": "stderr",
     "output_type": "stream",
     "text": [
      "Using TensorFlow backend.\n"
     ]
    }
   ],
   "source": [
    "import numpy as np\n",
    "from numpy import random\n",
    "import keras\n",
    "from keras import backend as k\n",
    "from keras.models import Sequential\n",
    "from keras.layers import Activation\n",
    "from keras.layers.core import Dense, Flatten\n",
    "from keras.optimizers import Adam\n",
    "from keras.metrics import categorical_crossentropy\n",
    "from keras.preprocessing.image import ImageDataGenerator\n",
    "from keras.layers.normalization import BatchNormalization\n",
    "from keras.layers.convolutional import *\n",
    "from matplotlib import pyplot as plt\n",
    "from sklearn.metrics import confusion_matrix\n",
    "import itertools\n",
    "import matplotlib.pyplot as plt\n",
    "from sklearn.model_selection import train_test_split\n",
    "from keras.models import load_model\n",
    "#print(\"hai\")"
   ]
  },
  {
   "cell_type": "code",
   "execution_count": null,
   "metadata": {
    "collapsed": false
   },
   "outputs": [],
   "source": [
    "import tensorflow as tf\n",
    "config = tf.ConfigProto()\n",
    "config.gpu_options.allow_growth = True\n",
    "sess = tf.Session(config=config)\n",
    "\n",
    "#config = tf.ConfigProto( device_count = {'GPU': 1 , 'CPU': 10} ) \n",
    "#sess = tf.Session(config=config) \n",
    "#keras.backend.set_session(sess)\n"
   ]
  },
  {
   "cell_type": "markdown",
   "metadata": {
    "collapsed": true
   },
   "source": [
    "train_path='train'\n",
    "test_path='test'\n",
    "valid_path='validation'"
   ]
  },
  {
   "cell_type": "code",
   "execution_count": 3,
   "metadata": {
    "collapsed": false
   },
   "outputs": [],
   "source": [
    "dataset=np.load('/home/workstation/Desktop/jab/MHCR/datasetgray.npy')"
   ]
  },
  {
   "cell_type": "code",
   "execution_count": 4,
   "metadata": {
    "collapsed": false
   },
   "outputs": [],
   "source": [
    "\n",
    "def generator(features, labels, batch_size):\n",
    "    batch_features = np.zeros((batch_size, 86,86,1))\n",
    "    batch_labels = np.zeros((batch_size,44))\n",
    "    \n",
    "    while True:\n",
    "        for i in range(batch_size):\n",
    "     # choose random index in features\n",
    "            index= random.choice(len(features),1)\n",
    "            batch_features[i] = features[index]\n",
    "            batch_labels[i] = labels[index]\n",
    "        yield batch_features, batch_labels"
   ]
  },
  {
   "cell_type": "code",
   "execution_count": 5,
   "metadata": {
    "collapsed": false
   },
   "outputs": [
    {
     "name": "stdout",
     "output_type": "stream",
     "text": [
      "(73521, 86, 86, 1) (18381, 86, 86, 1) (73521, 44) (18381, 44)\n",
      "(58816, 86, 86, 1) (14705, 86, 86, 1) (58816, 44) (14705, 44)\n"
     ]
    }
   ],
   "source": [
    "random.shuffle(dataset)\n",
    "X=np.array([i[0]for i in dataset]).reshape(-1,86,86,1)\n",
    "y=np.array([i[1] for i in dataset])\n",
    "X_train,X_test,y_train,y_test=train_test_split(X, y, test_size=0.2, random_state=1)\n",
    "print(X_train.shape,X_test.shape,y_train.shape,y_test.shape)\n",
    "\n",
    "X_train,X_val,y_train,y_val=train_test_split(X_train, y_train, test_size=0.2, random_state=1)\n",
    "print(X_train.shape,X_val.shape,y_train.shape,y_val.shape)\n",
    "\n"
   ]
  },
  {
   "cell_type": "code",
   "execution_count": 6,
   "metadata": {
    "collapsed": false
   },
   "outputs": [],
   "source": [
    "from keras.layers import Dense, Conv2D, MaxPool2D, Flatten, Dropout, BatchNormalization\n",
    "#imgs,labels=next(train_batches)\n",
    "#imgs,labels=next(generator(X_train,y_train,500))"
   ]
  },
  {
   "cell_type": "code",
   "execution_count": 7,
   "metadata": {
    "collapsed": false,
    "scrolled": true
   },
   "outputs": [
    {
     "name": "stdout",
     "output_type": "stream",
     "text": [
      "_________________________________________________________________\n",
      "Layer (type)                 Output Shape              Param #   \n",
      "=================================================================\n",
      "conv2d_1 (Conv2D)            (None, 84, 84, 32)        320       \n",
      "_________________________________________________________________\n",
      "max_pooling2d_1 (MaxPooling2 (None, 42, 42, 32)        0         \n",
      "_________________________________________________________________\n",
      "batch_normalization_1 (Batch (None, 42, 42, 32)        128       \n",
      "_________________________________________________________________\n",
      "conv2d_2 (Conv2D)            (None, 40, 40, 64)        18496     \n",
      "_________________________________________________________________\n",
      "max_pooling2d_2 (MaxPooling2 (None, 20, 20, 64)        0         \n",
      "_________________________________________________________________\n",
      "batch_normalization_2 (Batch (None, 20, 20, 64)        256       \n",
      "_________________________________________________________________\n",
      "conv2d_3 (Conv2D)            (None, 18, 18, 128)       73856     \n",
      "_________________________________________________________________\n",
      "max_pooling2d_3 (MaxPooling2 (None, 9, 9, 128)         0         \n",
      "_________________________________________________________________\n",
      "batch_normalization_3 (Batch (None, 9, 9, 128)         512       \n",
      "_________________________________________________________________\n",
      "flatten_1 (Flatten)          (None, 10368)             0         \n",
      "_________________________________________________________________\n",
      "dense_1 (Dense)              (None, 256)               2654464   \n",
      "_________________________________________________________________\n",
      "dropout_1 (Dropout)          (None, 256)               0         \n",
      "_________________________________________________________________\n",
      "dense_2 (Dense)              (None, 256)               65792     \n",
      "_________________________________________________________________\n",
      "dropout_2 (Dropout)          (None, 256)               0         \n",
      "_________________________________________________________________\n",
      "dense_3 (Dense)              (None, 44)                11308     \n",
      "=================================================================\n",
      "Total params: 2,825,132\n",
      "Trainable params: 2,824,684\n",
      "Non-trainable params: 448\n",
      "_________________________________________________________________\n"
     ]
    }
   ],
   "source": [
    "\n",
    "model = Sequential()\n",
    "model.add(Conv2D(32, 3, activation='relu', input_shape=[86, 86, 1]))\n",
    "model.add(MaxPool2D())\n",
    "model.add(BatchNormalization())\n",
    "model.add(Conv2D(64,3, activation='relu'))\n",
    "model.add(MaxPool2D())\n",
    "model.add(BatchNormalization())\n",
    "model.add(Conv2D(128, 3, activation='relu'))\n",
    "model.add(MaxPool2D())\n",
    "model.add(BatchNormalization())\n",
    "model.add(Flatten())\n",
    "model.add(Dense(256, activation='relu'))\n",
    "model.add(Dropout(0.25))\n",
    "model.add(Dense(256, activation='relu'))\n",
    "model.add(Dropout(0.25))\n",
    "model.add(Dense(44, activation='softmax'))\n",
    "model.summary()"
   ]
  },
  {
   "cell_type": "code",
   "execution_count": null,
   "metadata": {
    "collapsed": false,
    "scrolled": true
   },
   "outputs": [],
   "source": [
    "'''model2 = Sequential()\n",
    "model2.add(Conv2D(32, kernel_size=(3, 3),activation='relu',input_shape=(86, 86, 1)))\n",
    "model2.add(MaxPooling2D(pool_size=(2, 2)))\n",
    "model2.add(BatchNormalization())\n",
    "model2.add(Conv2D(64, (3, 3), activation='relu'))\n",
    "model2.add(MaxPooling2D(pool_size=(2, 2)))\n",
    "model2.add(BatchNormalization())\n",
    "model2.add(Conv2D(128, (3, 3), activation='relu'))\n",
    "model2.add(MaxPooling2D(pool_size=(2, 2)))\n",
    "model2.add(BatchNormalization())\n",
    "model2.add(Dropout(0.25))\n",
    "model2.add(Flatten())\n",
    "model2.add(Dense(128, activation='relu'))\n",
    "model2.add(Dropout(0.5))\n",
    "model2.add(Dense(44, activation='softmax'))\n",
    "model2.summary()\n",
    "'''"
   ]
  },
  {
   "cell_type": "code",
   "execution_count": 8,
   "metadata": {
    "collapsed": true
   },
   "outputs": [],
   "source": [
    "model.compile(optimizer='adam', loss='categorical_crossentropy', metrics=['accuracy'])"
   ]
  },
  {
   "cell_type": "code",
   "execution_count": 8,
   "metadata": {
    "collapsed": true
   },
   "outputs": [],
   "source": [
    "#model2.compile(optimizer='adam', loss='categorical_crossentropy', metrics=['accuracy'])"
   ]
  },
  {
   "cell_type": "code",
   "execution_count": null,
   "metadata": {
    "collapsed": true
   },
   "outputs": [],
   "source": [
    "#model2.fit_generator(generator(X_train,y_train,200),steps_per_epoch=450,validation_data=generator(X_val,y_val,147),validation_steps=100,epochs=10,verbose=1)"
   ]
  },
  {
   "cell_type": "code",
   "execution_count": 16,
   "metadata": {
    "collapsed": false,
    "scrolled": true
   },
   "outputs": [
    {
     "name": "stdout",
     "output_type": "stream",
     "text": [
      "Epoch 1/1\n",
      "450/450 [==============================] - 88s 195ms/step - loss: 0.3729 - acc: 0.9646 - val_loss: 0.5094 - val_acc: 0.9275\n"
     ]
    },
    {
     "data": {
      "text/plain": [
       "<keras.callbacks.History at 0x7f11dd442208>"
      ]
     },
     "execution_count": 16,
     "metadata": {},
     "output_type": "execute_result"
    }
   ],
   "source": [
    " model.fit_generator(generator(X_train,y_train,200),steps_per_epoch=450,validation_data=generator(X_val,y_val,140),validation_steps=100,epochs=1,verbose=1)"
   ]
  },
  {
   "cell_type": "code",
   "execution_count": null,
   "metadata": {
    "collapsed": true
   },
   "outputs": [],
   "source": [
    "#np.save('/home/workstation/Desktop/jab/MHCR/testfile.npy',dataset[-18381:])\n",
    "#del model2"
   ]
  },
  {
   "cell_type": "code",
   "execution_count": null,
   "metadata": {
    "collapsed": false
   },
   "outputs": [],
   "source": [
    "#tdata=np.load('/home/workstation/Desktop/jab/MHCR/testfile.npy')\n",
    "#print(tdata.shape)"
   ]
  },
  {
   "cell_type": "code",
   "execution_count": 10,
   "metadata": {
    "collapsed": true
   },
   "outputs": [],
   "source": [
    "def get_confusion_matrix_one_hot(model_results, truth):\n",
    "        '''model_results and truth should be for one-hot format, i.e, have >= 2 columns,\n",
    "        where truth is 0/1, and max along each row of model_results is model result\n",
    "        '''\n",
    "        assert model_results.shape == truth.shape\n",
    "        num_outputs = truth.shape[1]\n",
    "        confusion_matrix = np.zeros((num_outputs, num_outputs), dtype=np.int32)\n",
    "        predictions = np.argmax(model_results,axis=1)\n",
    "        assert len(predictions)==truth.shape[0]\n",
    "\n",
    "        for actual_class in range(num_outputs):\n",
    "            idx_examples_this_class = truth[:,actual_class]==1\n",
    "            prediction_for_this_class = predictions[idx_examples_this_class]\n",
    "            for predicted_class in range(num_outputs):\n",
    "                count = np.sum(prediction_for_this_class==predicted_class)\n",
    "                confusion_matrix[actual_class, predicted_class] = count\n",
    "        assert np.sum(confusion_matrix)==len(truth)\n",
    "        assert np.sum(confusion_matrix)==np.sum(truth)\n",
    "        return confusion_matrix"
   ]
  },
  {
   "cell_type": "code",
   "execution_count": 17,
   "metadata": {
    "collapsed": false
   },
   "outputs": [],
   "source": [
    "predict=model.predict(X_test)"
   ]
  },
  {
   "cell_type": "code",
   "execution_count": 18,
   "metadata": {
    "collapsed": false
   },
   "outputs": [
    {
     "name": "stdout",
     "output_type": "stream",
     "text": [
      "(18381, 86, 86, 1)\n",
      "[[339  20   0 ...   0   0   2]\n",
      " [  0 415   0 ...   0   0   0]\n",
      " [  0   0 395 ...   0   0   0]\n",
      " ...\n",
      " [  0   0   0 ... 398   0   0]\n",
      " [  0   0   0 ...   0 400   0]\n",
      " [  0   0   0 ...   0   0 426]]\n"
     ]
    }
   ],
   "source": [
    "con_mat=get_confusion_matrix_one_hot(predict,y_test)\n",
    "print(X_test.shape)\n",
    "print(con_mat)"
   ]
  },
  {
   "cell_type": "code",
   "execution_count": 13,
   "metadata": {
    "collapsed": true
   },
   "outputs": [],
   "source": [
    "def plot_confusion_matrix(cm,\n",
    "                          target_names,\n",
    "                          title='Confusion matrix',\n",
    "                          cmap=None,\n",
    "                          normalize=True):\n",
    "    accuracy = np.trace(cm) / float(np.sum(cm))\n",
    "    misclass = 1 - accuracy\n",
    "\n",
    "    if cmap is None:\n",
    "        cmap = plt.get_cmap('Blues')\n",
    "\n",
    "    plt.figure(figsize=(8, 6))\n",
    "    plt.imshow(cm, interpolation='nearest', cmap=cmap)\n",
    "    plt.title(title)\n",
    "    plt.colorbar()\n",
    "\n",
    "    if target_names is not None:\n",
    "        tick_marks = np.arange(len(target_names))\n",
    "        plt.xticks(tick_marks, target_names, rotation=45)\n",
    "        plt.yticks(tick_marks, target_names)\n",
    "\n",
    "    if normalize:\n",
    "        cm = cm.astype('float') / cm.sum(axis=1)[:, np.newaxis]\n",
    "\n",
    "\n",
    "    thresh = cm.max() / 1.5 if normalize else cm.max() / 2\n",
    "    for i, j in itertools.product(range(cm.shape[0]), range(cm.shape[1])):\n",
    "        if normalize:\n",
    "            plt.text(j, i, \"{:0.4f}\".format(cm[i, j]),\n",
    "                     horizontalalignment=\"center\",\n",
    "                     color=\"white\" if cm[i, j] > thresh else \"black\")\n",
    "        else:\n",
    "            plt.text(j, i, \"{:,}\".format(cm[i, j]),\n",
    "                     horizontalalignment=\"center\",\n",
    "                     color=\"white\" if cm[i, j] > thresh else \"black\")\n",
    "\n",
    "\n",
    "    plt.tight_layout()\n",
    "    plt.ylabel('True label')\n",
    "    plt.xlabel('Predicted label\\naccuracy={:0.4f}; misclass={:0.4f}'.format(accuracy, misclass))\n",
    "    plt.show()"
   ]
  },
  {
   "cell_type": "code",
   "execution_count": 14,
   "metadata": {
    "collapsed": false
   },
   "outputs": [],
   "source": [
    "names=['ch'+str(i+1) for i in range(44)]"
   ]
  },
  {
   "cell_type": "code",
   "execution_count": 21,
   "metadata": {
    "collapsed": true
   },
   "outputs": [],
   "source": [
    "plot_confusion_matrix(cm           = con_mat, \n",
    "                      normalize    = False,\n",
    "                      target_names = names,\n",
    "                      title        = \"Confusion Matrix\")"
   ]
  },
  {
   "cell_type": "code",
   "execution_count": null,
   "metadata": {
    "collapsed": true
   },
   "outputs": [],
   "source": [
    "#from keras import backend as K\n",
    "#K.clear_session()"
   ]
  },
  {
   "cell_type": "code",
   "execution_count": 26,
   "metadata": {
    "collapsed": true
   },
   "outputs": [],
   "source": [
    "#model2.save('/home/workstation/Desktop/jab/MHCR/modelMHCR_gray_3_84_2.h5')"
   ]
  },
  {
   "cell_type": "code",
   "execution_count": 20,
   "metadata": {
    "collapsed": false
   },
   "outputs": [
    {
     "data": {
      "image/svg+xml": [
       "<svg height=\"1140pt\" viewBox=\"0.00 0.00 268.00 1140.00\" width=\"268pt\" xmlns=\"http://www.w3.org/2000/svg\" xmlns:xlink=\"http://www.w3.org/1999/xlink\">\n",
       "<g class=\"graph\" id=\"graph0\" transform=\"scale(1 1) rotate(0) translate(4 1136)\">\n",
       "<title>G</title>\n",
       "<polygon fill=\"#ffffff\" points=\"-4,4 -4,-1136 264,-1136 264,4 -4,4\" stroke=\"transparent\"/>\n",
       "<!-- 139717488423096 -->\n",
       "<g class=\"node\" id=\"node1\">\n",
       "<title>139717488423096</title>\n",
       "<polygon fill=\"none\" points=\"68.5,-1022.5 68.5,-1058.5 191.5,-1058.5 191.5,-1022.5 68.5,-1022.5\" stroke=\"#000000\"/>\n",
       "<text fill=\"#000000\" font-family=\"Times,serif\" font-size=\"14.00\" text-anchor=\"middle\" x=\"130\" y=\"-1036.8\">conv2d_1: Conv2D</text>\n",
       "</g>\n",
       "<!-- 139715087246336 -->\n",
       "<g class=\"node\" id=\"node2\">\n",
       "<title>139715087246336</title>\n",
       "<polygon fill=\"none\" points=\"26.5,-949.5 26.5,-985.5 233.5,-985.5 233.5,-949.5 26.5,-949.5\" stroke=\"#000000\"/>\n",
       "<text fill=\"#000000\" font-family=\"Times,serif\" font-size=\"14.00\" text-anchor=\"middle\" x=\"130\" y=\"-963.8\">max_pooling2d_1: MaxPooling2D</text>\n",
       "</g>\n",
       "<!-- 139717488423096&#45;&gt;139715087246336 -->\n",
       "<g class=\"edge\" id=\"edge2\">\n",
       "<title>139717488423096-&gt;139715087246336</title>\n",
       "<path d=\"M130,-1022.4551C130,-1014.3828 130,-1004.6764 130,-995.6817\" fill=\"none\" stroke=\"#000000\"/>\n",
       "<polygon fill=\"#000000\" points=\"133.5001,-995.5903 130,-985.5904 126.5001,-995.5904 133.5001,-995.5903\" stroke=\"#000000\"/>\n",
       "</g>\n",
       "<!-- 139715010144688 -->\n",
       "<g class=\"node\" id=\"node3\">\n",
       "<title>139715010144688</title>\n",
       "<polygon fill=\"none\" points=\"0,-876.5 0,-912.5 260,-912.5 260,-876.5 0,-876.5\" stroke=\"#000000\"/>\n",
       "<text fill=\"#000000\" font-family=\"Times,serif\" font-size=\"14.00\" text-anchor=\"middle\" x=\"130\" y=\"-890.8\">batch_normalization_1: BatchNormalization</text>\n",
       "</g>\n",
       "<!-- 139715087246336&#45;&gt;139715010144688 -->\n",
       "<g class=\"edge\" id=\"edge3\">\n",
       "<title>139715087246336-&gt;139715010144688</title>\n",
       "<path d=\"M130,-949.4551C130,-941.3828 130,-931.6764 130,-922.6817\" fill=\"none\" stroke=\"#000000\"/>\n",
       "<polygon fill=\"#000000\" points=\"133.5001,-922.5903 130,-912.5904 126.5001,-922.5904 133.5001,-922.5903\" stroke=\"#000000\"/>\n",
       "</g>\n",
       "<!-- 139715010144296 -->\n",
       "<g class=\"node\" id=\"node4\">\n",
       "<title>139715010144296</title>\n",
       "<polygon fill=\"none\" points=\"68.5,-803.5 68.5,-839.5 191.5,-839.5 191.5,-803.5 68.5,-803.5\" stroke=\"#000000\"/>\n",
       "<text fill=\"#000000\" font-family=\"Times,serif\" font-size=\"14.00\" text-anchor=\"middle\" x=\"130\" y=\"-817.8\">conv2d_2: Conv2D</text>\n",
       "</g>\n",
       "<!-- 139715010144688&#45;&gt;139715010144296 -->\n",
       "<g class=\"edge\" id=\"edge4\">\n",
       "<title>139715010144688-&gt;139715010144296</title>\n",
       "<path d=\"M130,-876.4551C130,-868.3828 130,-858.6764 130,-849.6817\" fill=\"none\" stroke=\"#000000\"/>\n",
       "<polygon fill=\"#000000\" points=\"133.5001,-849.5903 130,-839.5904 126.5001,-849.5904 133.5001,-849.5903\" stroke=\"#000000\"/>\n",
       "</g>\n",
       "<!-- 139715010145696 -->\n",
       "<g class=\"node\" id=\"node5\">\n",
       "<title>139715010145696</title>\n",
       "<polygon fill=\"none\" points=\"26.5,-730.5 26.5,-766.5 233.5,-766.5 233.5,-730.5 26.5,-730.5\" stroke=\"#000000\"/>\n",
       "<text fill=\"#000000\" font-family=\"Times,serif\" font-size=\"14.00\" text-anchor=\"middle\" x=\"130\" y=\"-744.8\">max_pooling2d_2: MaxPooling2D</text>\n",
       "</g>\n",
       "<!-- 139715010144296&#45;&gt;139715010145696 -->\n",
       "<g class=\"edge\" id=\"edge5\">\n",
       "<title>139715010144296-&gt;139715010145696</title>\n",
       "<path d=\"M130,-803.4551C130,-795.3828 130,-785.6764 130,-776.6817\" fill=\"none\" stroke=\"#000000\"/>\n",
       "<polygon fill=\"#000000\" points=\"133.5001,-776.5903 130,-766.5904 126.5001,-776.5904 133.5001,-776.5903\" stroke=\"#000000\"/>\n",
       "</g>\n",
       "<!-- 139714265662688 -->\n",
       "<g class=\"node\" id=\"node6\">\n",
       "<title>139714265662688</title>\n",
       "<polygon fill=\"none\" points=\"0,-657.5 0,-693.5 260,-693.5 260,-657.5 0,-657.5\" stroke=\"#000000\"/>\n",
       "<text fill=\"#000000\" font-family=\"Times,serif\" font-size=\"14.00\" text-anchor=\"middle\" x=\"130\" y=\"-671.8\">batch_normalization_2: BatchNormalization</text>\n",
       "</g>\n",
       "<!-- 139715010145696&#45;&gt;139714265662688 -->\n",
       "<g class=\"edge\" id=\"edge6\">\n",
       "<title>139715010145696-&gt;139714265662688</title>\n",
       "<path d=\"M130,-730.4551C130,-722.3828 130,-712.6764 130,-703.6817\" fill=\"none\" stroke=\"#000000\"/>\n",
       "<polygon fill=\"#000000\" points=\"133.5001,-703.5903 130,-693.5904 126.5001,-703.5904 133.5001,-703.5903\" stroke=\"#000000\"/>\n",
       "</g>\n",
       "<!-- 139714266376512 -->\n",
       "<g class=\"node\" id=\"node7\">\n",
       "<title>139714266376512</title>\n",
       "<polygon fill=\"none\" points=\"68.5,-584.5 68.5,-620.5 191.5,-620.5 191.5,-584.5 68.5,-584.5\" stroke=\"#000000\"/>\n",
       "<text fill=\"#000000\" font-family=\"Times,serif\" font-size=\"14.00\" text-anchor=\"middle\" x=\"130\" y=\"-598.8\">conv2d_3: Conv2D</text>\n",
       "</g>\n",
       "<!-- 139714265662688&#45;&gt;139714266376512 -->\n",
       "<g class=\"edge\" id=\"edge7\">\n",
       "<title>139714265662688-&gt;139714266376512</title>\n",
       "<path d=\"M130,-657.4551C130,-649.3828 130,-639.6764 130,-630.6817\" fill=\"none\" stroke=\"#000000\"/>\n",
       "<polygon fill=\"#000000\" points=\"133.5001,-630.5903 130,-620.5904 126.5001,-630.5904 133.5001,-630.5903\" stroke=\"#000000\"/>\n",
       "</g>\n",
       "<!-- 139714266376624 -->\n",
       "<g class=\"node\" id=\"node8\">\n",
       "<title>139714266376624</title>\n",
       "<polygon fill=\"none\" points=\"26.5,-511.5 26.5,-547.5 233.5,-547.5 233.5,-511.5 26.5,-511.5\" stroke=\"#000000\"/>\n",
       "<text fill=\"#000000\" font-family=\"Times,serif\" font-size=\"14.00\" text-anchor=\"middle\" x=\"130\" y=\"-525.8\">max_pooling2d_3: MaxPooling2D</text>\n",
       "</g>\n",
       "<!-- 139714266376512&#45;&gt;139714266376624 -->\n",
       "<g class=\"edge\" id=\"edge8\">\n",
       "<title>139714266376512-&gt;139714266376624</title>\n",
       "<path d=\"M130,-584.4551C130,-576.3828 130,-566.6764 130,-557.6817\" fill=\"none\" stroke=\"#000000\"/>\n",
       "<polygon fill=\"#000000\" points=\"133.5001,-557.5903 130,-547.5904 126.5001,-557.5904 133.5001,-557.5903\" stroke=\"#000000\"/>\n",
       "</g>\n",
       "<!-- 139714703770120 -->\n",
       "<g class=\"node\" id=\"node9\">\n",
       "<title>139714703770120</title>\n",
       "<polygon fill=\"none\" points=\"0,-438.5 0,-474.5 260,-474.5 260,-438.5 0,-438.5\" stroke=\"#000000\"/>\n",
       "<text fill=\"#000000\" font-family=\"Times,serif\" font-size=\"14.00\" text-anchor=\"middle\" x=\"130\" y=\"-452.8\">batch_normalization_3: BatchNormalization</text>\n",
       "</g>\n",
       "<!-- 139714266376624&#45;&gt;139714703770120 -->\n",
       "<g class=\"edge\" id=\"edge9\">\n",
       "<title>139714266376624-&gt;139714703770120</title>\n",
       "<path d=\"M130,-511.4551C130,-503.3828 130,-493.6764 130,-484.6817\" fill=\"none\" stroke=\"#000000\"/>\n",
       "<polygon fill=\"#000000\" points=\"133.5001,-484.5903 130,-474.5904 126.5001,-484.5904 133.5001,-484.5903\" stroke=\"#000000\"/>\n",
       "</g>\n",
       "<!-- 139714698633112 -->\n",
       "<g class=\"node\" id=\"node10\">\n",
       "<title>139714698633112</title>\n",
       "<polygon fill=\"none\" points=\"75,-365.5 75,-401.5 185,-401.5 185,-365.5 75,-365.5\" stroke=\"#000000\"/>\n",
       "<text fill=\"#000000\" font-family=\"Times,serif\" font-size=\"14.00\" text-anchor=\"middle\" x=\"130\" y=\"-379.8\">flatten_1: Flatten</text>\n",
       "</g>\n",
       "<!-- 139714703770120&#45;&gt;139714698633112 -->\n",
       "<g class=\"edge\" id=\"edge10\">\n",
       "<title>139714703770120-&gt;139714698633112</title>\n",
       "<path d=\"M130,-438.4551C130,-430.3828 130,-420.6764 130,-411.6817\" fill=\"none\" stroke=\"#000000\"/>\n",
       "<polygon fill=\"#000000\" points=\"133.5001,-411.5903 130,-401.5904 126.5001,-411.5904 133.5001,-411.5903\" stroke=\"#000000\"/>\n",
       "</g>\n",
       "<!-- 139714698629976 -->\n",
       "<g class=\"node\" id=\"node11\">\n",
       "<title>139714698629976</title>\n",
       "<polygon fill=\"none\" points=\"79,-292.5 79,-328.5 181,-328.5 181,-292.5 79,-292.5\" stroke=\"#000000\"/>\n",
       "<text fill=\"#000000\" font-family=\"Times,serif\" font-size=\"14.00\" text-anchor=\"middle\" x=\"130\" y=\"-306.8\">dense_1: Dense</text>\n",
       "</g>\n",
       "<!-- 139714698633112&#45;&gt;139714698629976 -->\n",
       "<g class=\"edge\" id=\"edge11\">\n",
       "<title>139714698633112-&gt;139714698629976</title>\n",
       "<path d=\"M130,-365.4551C130,-357.3828 130,-347.6764 130,-338.6817\" fill=\"none\" stroke=\"#000000\"/>\n",
       "<polygon fill=\"#000000\" points=\"133.5001,-338.5903 130,-328.5904 126.5001,-338.5904 133.5001,-338.5903\" stroke=\"#000000\"/>\n",
       "</g>\n",
       "<!-- 139714696092584 -->\n",
       "<g class=\"node\" id=\"node12\">\n",
       "<title>139714696092584</title>\n",
       "<polygon fill=\"none\" points=\"67.5,-219.5 67.5,-255.5 192.5,-255.5 192.5,-219.5 67.5,-219.5\" stroke=\"#000000\"/>\n",
       "<text fill=\"#000000\" font-family=\"Times,serif\" font-size=\"14.00\" text-anchor=\"middle\" x=\"130\" y=\"-233.8\">dropout_1: Dropout</text>\n",
       "</g>\n",
       "<!-- 139714698629976&#45;&gt;139714696092584 -->\n",
       "<g class=\"edge\" id=\"edge12\">\n",
       "<title>139714698629976-&gt;139714696092584</title>\n",
       "<path d=\"M130,-292.4551C130,-284.3828 130,-274.6764 130,-265.6817\" fill=\"none\" stroke=\"#000000\"/>\n",
       "<polygon fill=\"#000000\" points=\"133.5001,-265.5903 130,-255.5904 126.5001,-265.5904 133.5001,-265.5903\" stroke=\"#000000\"/>\n",
       "</g>\n",
       "<!-- 139714688089504 -->\n",
       "<g class=\"node\" id=\"node13\">\n",
       "<title>139714688089504</title>\n",
       "<polygon fill=\"none\" points=\"79,-146.5 79,-182.5 181,-182.5 181,-146.5 79,-146.5\" stroke=\"#000000\"/>\n",
       "<text fill=\"#000000\" font-family=\"Times,serif\" font-size=\"14.00\" text-anchor=\"middle\" x=\"130\" y=\"-160.8\">dense_2: Dense</text>\n",
       "</g>\n",
       "<!-- 139714696092584&#45;&gt;139714688089504 -->\n",
       "<g class=\"edge\" id=\"edge13\">\n",
       "<title>139714696092584-&gt;139714688089504</title>\n",
       "<path d=\"M130,-219.4551C130,-211.3828 130,-201.6764 130,-192.6817\" fill=\"none\" stroke=\"#000000\"/>\n",
       "<polygon fill=\"#000000\" points=\"133.5001,-192.5903 130,-182.5904 126.5001,-192.5904 133.5001,-192.5903\" stroke=\"#000000\"/>\n",
       "</g>\n",
       "<!-- 139714688090008 -->\n",
       "<g class=\"node\" id=\"node14\">\n",
       "<title>139714688090008</title>\n",
       "<polygon fill=\"none\" points=\"67.5,-73.5 67.5,-109.5 192.5,-109.5 192.5,-73.5 67.5,-73.5\" stroke=\"#000000\"/>\n",
       "<text fill=\"#000000\" font-family=\"Times,serif\" font-size=\"14.00\" text-anchor=\"middle\" x=\"130\" y=\"-87.8\">dropout_2: Dropout</text>\n",
       "</g>\n",
       "<!-- 139714688089504&#45;&gt;139714688090008 -->\n",
       "<g class=\"edge\" id=\"edge14\">\n",
       "<title>139714688089504-&gt;139714688090008</title>\n",
       "<path d=\"M130,-146.4551C130,-138.3828 130,-128.6764 130,-119.6817\" fill=\"none\" stroke=\"#000000\"/>\n",
       "<polygon fill=\"#000000\" points=\"133.5001,-119.5903 130,-109.5904 126.5001,-119.5904 133.5001,-119.5903\" stroke=\"#000000\"/>\n",
       "</g>\n",
       "<!-- 139714685892592 -->\n",
       "<g class=\"node\" id=\"node15\">\n",
       "<title>139714685892592</title>\n",
       "<polygon fill=\"none\" points=\"79,-.5 79,-36.5 181,-36.5 181,-.5 79,-.5\" stroke=\"#000000\"/>\n",
       "<text fill=\"#000000\" font-family=\"Times,serif\" font-size=\"14.00\" text-anchor=\"middle\" x=\"130\" y=\"-14.8\">dense_3: Dense</text>\n",
       "</g>\n",
       "<!-- 139714688090008&#45;&gt;139714685892592 -->\n",
       "<g class=\"edge\" id=\"edge15\">\n",
       "<title>139714688090008-&gt;139714685892592</title>\n",
       "<path d=\"M130,-73.4551C130,-65.3828 130,-55.6764 130,-46.6817\" fill=\"none\" stroke=\"#000000\"/>\n",
       "<polygon fill=\"#000000\" points=\"133.5001,-46.5903 130,-36.5904 126.5001,-46.5904 133.5001,-46.5903\" stroke=\"#000000\"/>\n",
       "</g>\n",
       "<!-- 139715010114168 -->\n",
       "<g class=\"node\" id=\"node16\">\n",
       "<title>139715010114168</title>\n",
       "<polygon fill=\"none\" points=\"71,-1095.5 71,-1131.5 189,-1131.5 189,-1095.5 71,-1095.5\" stroke=\"#000000\"/>\n",
       "<text fill=\"#000000\" font-family=\"Times,serif\" font-size=\"14.00\" text-anchor=\"middle\" x=\"130\" y=\"-1109.8\">139715010114168</text>\n",
       "</g>\n",
       "<!-- 139715010114168&#45;&gt;139717488423096 -->\n",
       "<g class=\"edge\" id=\"edge1\">\n",
       "<title>139715010114168-&gt;139717488423096</title>\n",
       "<path d=\"M130,-1095.4551C130,-1087.3828 130,-1077.6764 130,-1068.6817\" fill=\"none\" stroke=\"#000000\"/>\n",
       "<polygon fill=\"#000000\" points=\"133.5001,-1068.5903 130,-1058.5904 126.5001,-1068.5904 133.5001,-1068.5903\" stroke=\"#000000\"/>\n",
       "</g>\n",
       "</g>\n",
       "</svg>"
      ],
      "text/plain": [
       "<IPython.core.display.SVG object>"
      ]
     },
     "execution_count": 20,
     "metadata": {},
     "output_type": "execute_result"
    }
   ],
   "source": [
    "from IPython.display import SVG\n",
    "from keras.utils.vis_utils import model_to_dot\n",
    "\n",
    "SVG(model_to_dot(model).create(prog='dot', format='svg'))"
   ]
  },
  {
   "cell_type": "code",
   "execution_count": null,
   "metadata": {
    "collapsed": true
   },
   "outputs": [],
   "source": []
  }
 ],
 "metadata": {
  "kernelspec": {
   "display_name": "Python 3",
   "language": "python",
   "name": "python3"
  },
  "language_info": {
   "codemirror_mode": {
    "name": "ipython",
    "version": 3
   },
   "file_extension": ".py",
   "mimetype": "text/x-python",
   "name": "python",
   "nbconvert_exporter": "python",
   "pygments_lexer": "ipython3",
   "version": "3.5.5"
  }
 },
 "nbformat": 4,
 "nbformat_minor": 0
}
